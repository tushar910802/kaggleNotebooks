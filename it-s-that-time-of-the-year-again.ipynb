{
 "cells": [
  {
   "cell_type": "markdown",
   "id": "0ab6f755",
   "metadata": {
    "papermill": {
     "duration": 0.019318,
     "end_time": "2023-03-03T09:12:08.151353",
     "exception": false,
     "start_time": "2023-03-03T09:12:08.132035",
     "status": "completed"
    },
    "tags": []
   },
   "source": [
    "# Adapting the 2nd Place Solution of the 2021 NCAAW Competition\n",
    "\n",
    "- Solution write-up is available here : https://www.kaggle.com/c/ncaaw-march-mania-2021/discussion/230705\n",
    "- 2nd place code : https://www.kaggle.com/theoviel/2nd-place-ncaaw-2021?scriptVersionId=58780991\n",
    "- It was adapted from this notebook : https://www.kaggle.com/theoviel/ncaa-starter-the-simpler-the-better \n",
    "\n",
    "**Changes :**\n",
    "- Build one model for both Men and Women\n",
    "- Update metric to MSE"
   ]
  },
  {
   "cell_type": "code",
   "execution_count": 1,
   "id": "d3523a03",
   "metadata": {
    "_cell_guid": "b1076dfc-b9ad-4769-8c92-a6c4dae69d19",
    "_uuid": "8f2839f25d086af736a60e9eeb907d3b93b6e0e5",
    "execution": {
     "iopub.execute_input": "2023-03-03T09:12:08.189146Z",
     "iopub.status.busy": "2023-03-03T09:12:08.188511Z",
     "iopub.status.idle": "2023-03-03T09:12:09.556065Z",
     "shell.execute_reply": "2023-03-03T09:12:09.554683Z"
    },
    "papermill": {
     "duration": 1.390214,
     "end_time": "2023-03-03T09:12:09.559487",
     "exception": false,
     "start_time": "2023-03-03T09:12:08.169273",
     "status": "completed"
    },
    "tags": []
   },
   "outputs": [],
   "source": [
    "import os\n",
    "import re\n",
    "import sklearn\n",
    "import numpy as np \n",
    "import pandas as pd\n",
    "import seaborn as sns\n",
    "import matplotlib.pyplot as plt\n",
    "\n",
    "from collections import Counter\n",
    "from sklearn.metrics import *\n",
    "from sklearn.linear_model import *\n",
    "from sklearn.model_selection import *\n",
    "\n",
    "pd.set_option('display.max_columns', None)"
   ]
  },
  {
   "cell_type": "code",
   "execution_count": 2,
   "id": "e7068553",
   "metadata": {
    "execution": {
     "iopub.execute_input": "2023-03-03T09:12:09.599532Z",
     "iopub.status.busy": "2023-03-03T09:12:09.598740Z",
     "iopub.status.idle": "2023-03-03T09:12:09.606311Z",
     "shell.execute_reply": "2023-03-03T09:12:09.605104Z"
    },
    "papermill": {
     "duration": 0.030491,
     "end_time": "2023-03-03T09:12:09.609444",
     "exception": false,
     "start_time": "2023-03-03T09:12:09.578953",
     "status": "completed"
    },
    "tags": []
   },
   "outputs": [
    {
     "name": "stdout",
     "output_type": "stream",
     "text": [
      "Cities.csv\n",
      "Conferences.csv\n",
      "MConferenceTourneyGames.csv\n",
      "MGameCities.csv\n",
      "MMasseyOrdinals.csv\n",
      "MNCAATourneyCompactResults.csv\n",
      "MNCAATourneyDetailedResults.csv\n",
      "MNCAATourneySeedRoundSlots.csv\n",
      "MNCAATourneySeeds.csv\n",
      "MNCAATourneySlots.csv\n",
      "MRegularSeasonCompactResults.csv\n",
      "MRegularSeasonDetailedResults.csv\n",
      "MSeasons.csv\n",
      "MSecondaryTourneyCompactResults.csv\n",
      "MSecondaryTourneyTeams.csv\n",
      "MTeamCoaches.csv\n",
      "MTeamConferences.csv\n",
      "MTeamSpellings.csv\n",
      "MTeams.csv\n",
      "SampleSubmission2023.csv\n",
      "WGameCities.csv\n",
      "WNCAATourneyCompactResults.csv\n",
      "WNCAATourneyDetailedResults.csv\n",
      "WNCAATourneySeeds.csv\n",
      "WNCAATourneySlots.csv\n",
      "WRegularSeasonCompactResults.csv\n",
      "WRegularSeasonDetailedResults.csv\n",
      "WSeasons.csv\n",
      "WTeamConferences.csv\n",
      "WTeamSpellings.csv\n",
      "WTeams.csv\n"
     ]
    }
   ],
   "source": [
    "DATA_PATH = '/kaggle/input/march-machine-learning-mania-2023/'\n",
    "\n",
    "for filename in sorted(os.listdir(DATA_PATH)):\n",
    "    print(filename)"
   ]
  },
  {
   "cell_type": "markdown",
   "id": "72e1e573",
   "metadata": {
    "papermill": {
     "duration": 0.016999,
     "end_time": "2023-03-03T09:12:09.645863",
     "exception": false,
     "start_time": "2023-03-03T09:12:09.628864",
     "status": "completed"
    },
    "tags": []
   },
   "source": [
    "# Data preparation"
   ]
  },
  {
   "cell_type": "markdown",
   "id": "2e1980a9",
   "metadata": {
    "papermill": {
     "duration": 0.017263,
     "end_time": "2023-03-03T09:12:09.680471",
     "exception": false,
     "start_time": "2023-03-03T09:12:09.663208",
     "status": "completed"
    },
    "tags": []
   },
   "source": [
    "## Seeds\n",
    "> This file identifies the seeds for all teams in each NCAA® tournament, for all seasons of historical data. Thus, there are between 64-68 rows for each year, depending on whether there were any play-in games and how many there were. In recent years the structure has settled at 68 total teams, with four \"play-in\" games leading to the final field of 64 teams entering Round 1 on Thursday of the first week (by definition, that is DayNum=136 each season). We will not know the seeds of the respective tournament teams, or even exactly which 68 teams it will be, until Selection Sunday on March 15, 2020 (DayNum=132).\n",
    "\n",
    "> The seed is a 3/4-character :\n",
    "- First character : Region (W, X, Y, or Z)\n",
    "- Next two digits : Seed within the region (01 to 16)\n",
    "- Last character (optional): Distinguishes teams between play-ins ( a or b)"
   ]
  },
  {
   "cell_type": "code",
   "execution_count": 3,
   "id": "410adb7b",
   "metadata": {
    "execution": {
     "iopub.execute_input": "2023-03-03T09:12:09.717333Z",
     "iopub.status.busy": "2023-03-03T09:12:09.716505Z",
     "iopub.status.idle": "2023-03-03T09:12:09.766153Z",
     "shell.execute_reply": "2023-03-03T09:12:09.764787Z"
    },
    "papermill": {
     "duration": 0.070867,
     "end_time": "2023-03-03T09:12:09.768828",
     "exception": false,
     "start_time": "2023-03-03T09:12:09.697961",
     "status": "completed"
    },
    "tags": []
   },
   "outputs": [
    {
     "data": {
      "text/html": [
       "<div>\n",
       "<style scoped>\n",
       "    .dataframe tbody tr th:only-of-type {\n",
       "        vertical-align: middle;\n",
       "    }\n",
       "\n",
       "    .dataframe tbody tr th {\n",
       "        vertical-align: top;\n",
       "    }\n",
       "\n",
       "    .dataframe thead th {\n",
       "        text-align: right;\n",
       "    }\n",
       "</style>\n",
       "<table border=\"1\" class=\"dataframe\">\n",
       "  <thead>\n",
       "    <tr style=\"text-align: right;\">\n",
       "      <th></th>\n",
       "      <th>Season</th>\n",
       "      <th>Seed</th>\n",
       "      <th>TeamID</th>\n",
       "    </tr>\n",
       "  </thead>\n",
       "  <tbody>\n",
       "    <tr>\n",
       "      <th>0</th>\n",
       "      <td>1985</td>\n",
       "      <td>W01</td>\n",
       "      <td>1207</td>\n",
       "    </tr>\n",
       "    <tr>\n",
       "      <th>1</th>\n",
       "      <td>1985</td>\n",
       "      <td>W02</td>\n",
       "      <td>1210</td>\n",
       "    </tr>\n",
       "    <tr>\n",
       "      <th>2</th>\n",
       "      <td>1985</td>\n",
       "      <td>W03</td>\n",
       "      <td>1228</td>\n",
       "    </tr>\n",
       "    <tr>\n",
       "      <th>3</th>\n",
       "      <td>1985</td>\n",
       "      <td>W04</td>\n",
       "      <td>1260</td>\n",
       "    </tr>\n",
       "    <tr>\n",
       "      <th>4</th>\n",
       "      <td>1985</td>\n",
       "      <td>W05</td>\n",
       "      <td>1374</td>\n",
       "    </tr>\n",
       "  </tbody>\n",
       "</table>\n",
       "</div>"
      ],
      "text/plain": [
       "   Season Seed  TeamID\n",
       "0    1985  W01    1207\n",
       "1    1985  W02    1210\n",
       "2    1985  W03    1228\n",
       "3    1985  W04    1260\n",
       "4    1985  W05    1374"
      ]
     },
     "execution_count": 3,
     "metadata": {},
     "output_type": "execute_result"
    }
   ],
   "source": [
    "df_seeds = pd.concat([\n",
    "    pd.read_csv(DATA_PATH + \"MNCAATourneySeeds.csv\"),\n",
    "    pd.read_csv(DATA_PATH + \"WNCAATourneySeeds.csv\"),\n",
    "], ignore_index=True)\n",
    "    \n",
    "df_seeds.head()"
   ]
  },
  {
   "cell_type": "markdown",
   "id": "fde90f6e",
   "metadata": {
    "papermill": {
     "duration": 0.01683,
     "end_time": "2023-03-03T09:12:09.803072",
     "exception": false,
     "start_time": "2023-03-03T09:12:09.786242",
     "status": "completed"
    },
    "tags": []
   },
   "source": [
    "## Season results\n",
    "> This file identifies the game-by-game results for many seasons of historical data, starting with the 1985 season (the first year the NCAA® had a 64-team tournament). For each season, the file includes all games played from DayNum 0 through 132. It is important to realize that the \"Regular Season\" games are simply defined to be all games played on DayNum=132 or earlier (DayNum=132 is Selection Sunday, and there are always a few conference tournament finals actually played early in the day on Selection Sunday itself). Thus a game played on or before Selection Sunday will show up here whether it was a pre-season tournament, a non-conference game, a regular conference game, a conference tournament game, or whatever."
   ]
  },
  {
   "cell_type": "code",
   "execution_count": 4,
   "id": "a72cd357",
   "metadata": {
    "execution": {
     "iopub.execute_input": "2023-03-03T09:12:09.839099Z",
     "iopub.status.busy": "2023-03-03T09:12:09.838691Z",
     "iopub.status.idle": "2023-03-03T09:12:10.196356Z",
     "shell.execute_reply": "2023-03-03T09:12:10.195132Z"
    },
    "papermill": {
     "duration": 0.379029,
     "end_time": "2023-03-03T09:12:10.199279",
     "exception": false,
     "start_time": "2023-03-03T09:12:09.820250",
     "status": "completed"
    },
    "tags": []
   },
   "outputs": [],
   "source": [
    "df_season_results = pd.concat([\n",
    "    pd.read_csv(DATA_PATH + \"MRegularSeasonCompactResults.csv\"),\n",
    "    pd.read_csv(DATA_PATH + \"WRegularSeasonCompactResults.csv\"),\n",
    "], ignore_index=True)\n",
    "\n",
    "df_season_results.drop(['NumOT', 'WLoc'], axis=1, inplace=True)"
   ]
  },
  {
   "cell_type": "code",
   "execution_count": 5,
   "id": "9b964610",
   "metadata": {
    "execution": {
     "iopub.execute_input": "2023-03-03T09:12:10.237170Z",
     "iopub.status.busy": "2023-03-03T09:12:10.236768Z",
     "iopub.status.idle": "2023-03-03T09:12:10.247922Z",
     "shell.execute_reply": "2023-03-03T09:12:10.246733Z"
    },
    "papermill": {
     "duration": 0.031894,
     "end_time": "2023-03-03T09:12:10.250198",
     "exception": false,
     "start_time": "2023-03-03T09:12:10.218304",
     "status": "completed"
    },
    "tags": []
   },
   "outputs": [],
   "source": [
    "df_season_results['ScoreGap'] = df_season_results['WScore'] - df_season_results['LScore']"
   ]
  },
  {
   "cell_type": "code",
   "execution_count": 6,
   "id": "526bb0e8",
   "metadata": {
    "execution": {
     "iopub.execute_input": "2023-03-03T09:12:10.286083Z",
     "iopub.status.busy": "2023-03-03T09:12:10.285663Z",
     "iopub.status.idle": "2023-03-03T09:12:10.298272Z",
     "shell.execute_reply": "2023-03-03T09:12:10.297033Z"
    },
    "papermill": {
     "duration": 0.033268,
     "end_time": "2023-03-03T09:12:10.300659",
     "exception": false,
     "start_time": "2023-03-03T09:12:10.267391",
     "status": "completed"
    },
    "tags": []
   },
   "outputs": [
    {
     "data": {
      "text/html": [
       "<div>\n",
       "<style scoped>\n",
       "    .dataframe tbody tr th:only-of-type {\n",
       "        vertical-align: middle;\n",
       "    }\n",
       "\n",
       "    .dataframe tbody tr th {\n",
       "        vertical-align: top;\n",
       "    }\n",
       "\n",
       "    .dataframe thead th {\n",
       "        text-align: right;\n",
       "    }\n",
       "</style>\n",
       "<table border=\"1\" class=\"dataframe\">\n",
       "  <thead>\n",
       "    <tr style=\"text-align: right;\">\n",
       "      <th></th>\n",
       "      <th>Season</th>\n",
       "      <th>DayNum</th>\n",
       "      <th>WTeamID</th>\n",
       "      <th>WScore</th>\n",
       "      <th>LTeamID</th>\n",
       "      <th>LScore</th>\n",
       "      <th>ScoreGap</th>\n",
       "    </tr>\n",
       "  </thead>\n",
       "  <tbody>\n",
       "    <tr>\n",
       "      <th>0</th>\n",
       "      <td>1985</td>\n",
       "      <td>20</td>\n",
       "      <td>1228</td>\n",
       "      <td>81</td>\n",
       "      <td>1328</td>\n",
       "      <td>64</td>\n",
       "      <td>17</td>\n",
       "    </tr>\n",
       "    <tr>\n",
       "      <th>1</th>\n",
       "      <td>1985</td>\n",
       "      <td>25</td>\n",
       "      <td>1106</td>\n",
       "      <td>77</td>\n",
       "      <td>1354</td>\n",
       "      <td>70</td>\n",
       "      <td>7</td>\n",
       "    </tr>\n",
       "    <tr>\n",
       "      <th>2</th>\n",
       "      <td>1985</td>\n",
       "      <td>25</td>\n",
       "      <td>1112</td>\n",
       "      <td>63</td>\n",
       "      <td>1223</td>\n",
       "      <td>56</td>\n",
       "      <td>7</td>\n",
       "    </tr>\n",
       "    <tr>\n",
       "      <th>3</th>\n",
       "      <td>1985</td>\n",
       "      <td>25</td>\n",
       "      <td>1165</td>\n",
       "      <td>70</td>\n",
       "      <td>1432</td>\n",
       "      <td>54</td>\n",
       "      <td>16</td>\n",
       "    </tr>\n",
       "    <tr>\n",
       "      <th>4</th>\n",
       "      <td>1985</td>\n",
       "      <td>25</td>\n",
       "      <td>1192</td>\n",
       "      <td>86</td>\n",
       "      <td>1447</td>\n",
       "      <td>74</td>\n",
       "      <td>12</td>\n",
       "    </tr>\n",
       "  </tbody>\n",
       "</table>\n",
       "</div>"
      ],
      "text/plain": [
       "   Season  DayNum  WTeamID  WScore  LTeamID  LScore  ScoreGap\n",
       "0    1985      20     1228      81     1328      64        17\n",
       "1    1985      25     1106      77     1354      70         7\n",
       "2    1985      25     1112      63     1223      56         7\n",
       "3    1985      25     1165      70     1432      54        16\n",
       "4    1985      25     1192      86     1447      74        12"
      ]
     },
     "execution_count": 6,
     "metadata": {},
     "output_type": "execute_result"
    }
   ],
   "source": [
    "df_season_results.head()"
   ]
  },
  {
   "cell_type": "markdown",
   "id": "5c003742",
   "metadata": {
    "papermill": {
     "duration": 0.017202,
     "end_time": "2023-03-03T09:12:10.335527",
     "exception": false,
     "start_time": "2023-03-03T09:12:10.318325",
     "status": "completed"
    },
    "tags": []
   },
   "source": [
    "### Features \n",
    "For each team at each season, I compute : \n",
    "- Number of wins\n",
    "- Number of losses\n",
    "- Average score gap of wins\n",
    "- Average score gap of losses\n",
    "\n",
    "And use the following features : \n",
    "- Win Ratio\n",
    "- Average score gap"
   ]
  },
  {
   "cell_type": "code",
   "execution_count": 7,
   "id": "60978f38",
   "metadata": {
    "execution": {
     "iopub.execute_input": "2023-03-03T09:12:10.374154Z",
     "iopub.status.busy": "2023-03-03T09:12:10.373430Z",
     "iopub.status.idle": "2023-03-03T09:12:10.441896Z",
     "shell.execute_reply": "2023-03-03T09:12:10.440759Z"
    },
    "papermill": {
     "duration": 0.090666,
     "end_time": "2023-03-03T09:12:10.444808",
     "exception": false,
     "start_time": "2023-03-03T09:12:10.354142",
     "status": "completed"
    },
    "tags": []
   },
   "outputs": [],
   "source": [
    "num_win = df_season_results.groupby(['Season', 'WTeamID']).count()\n",
    "num_win = num_win.reset_index()[['Season', 'WTeamID', 'DayNum']].rename(columns={\"DayNum\": \"NumWins\", \"WTeamID\": \"TeamID\"})"
   ]
  },
  {
   "cell_type": "code",
   "execution_count": 8,
   "id": "d5eed640",
   "metadata": {
    "execution": {
     "iopub.execute_input": "2023-03-03T09:12:10.482307Z",
     "iopub.status.busy": "2023-03-03T09:12:10.481386Z",
     "iopub.status.idle": "2023-03-03T09:12:10.519616Z",
     "shell.execute_reply": "2023-03-03T09:12:10.518307Z"
    },
    "papermill": {
     "duration": 0.060054,
     "end_time": "2023-03-03T09:12:10.522458",
     "exception": false,
     "start_time": "2023-03-03T09:12:10.462404",
     "status": "completed"
    },
    "tags": []
   },
   "outputs": [],
   "source": [
    "num_loss = df_season_results.groupby(['Season', 'LTeamID']).count()\n",
    "num_loss = num_loss.reset_index()[['Season', 'LTeamID', 'DayNum']].rename(columns={\"DayNum\": \"NumLosses\", \"LTeamID\": \"TeamID\"})"
   ]
  },
  {
   "cell_type": "code",
   "execution_count": 9,
   "id": "62fb04ac",
   "metadata": {
    "execution": {
     "iopub.execute_input": "2023-03-03T09:12:10.559555Z",
     "iopub.status.busy": "2023-03-03T09:12:10.559092Z",
     "iopub.status.idle": "2023-03-03T09:12:10.601713Z",
     "shell.execute_reply": "2023-03-03T09:12:10.600507Z"
    },
    "papermill": {
     "duration": 0.064261,
     "end_time": "2023-03-03T09:12:10.604633",
     "exception": false,
     "start_time": "2023-03-03T09:12:10.540372",
     "status": "completed"
    },
    "tags": []
   },
   "outputs": [],
   "source": [
    "gap_win = df_season_results.groupby(['Season', 'WTeamID']).mean().reset_index()\n",
    "gap_win = gap_win[['Season', 'WTeamID', 'ScoreGap']].rename(columns={\"ScoreGap\": \"GapWins\", \"WTeamID\": \"TeamID\"})"
   ]
  },
  {
   "cell_type": "code",
   "execution_count": 10,
   "id": "f9b68abd",
   "metadata": {
    "execution": {
     "iopub.execute_input": "2023-03-03T09:12:10.641377Z",
     "iopub.status.busy": "2023-03-03T09:12:10.640711Z",
     "iopub.status.idle": "2023-03-03T09:12:10.679902Z",
     "shell.execute_reply": "2023-03-03T09:12:10.678368Z"
    },
    "papermill": {
     "duration": 0.060713,
     "end_time": "2023-03-03T09:12:10.682775",
     "exception": false,
     "start_time": "2023-03-03T09:12:10.622062",
     "status": "completed"
    },
    "tags": []
   },
   "outputs": [],
   "source": [
    "gap_loss = df_season_results.groupby(['Season', 'LTeamID']).mean().reset_index()\n",
    "gap_loss = gap_loss[['Season', 'LTeamID', 'ScoreGap']].rename(columns={\"ScoreGap\": \"GapLosses\", \"LTeamID\": \"TeamID\"})"
   ]
  },
  {
   "cell_type": "markdown",
   "id": "8d74ec51",
   "metadata": {
    "papermill": {
     "duration": 0.017346,
     "end_time": "2023-03-03T09:12:10.718648",
     "exception": false,
     "start_time": "2023-03-03T09:12:10.701302",
     "status": "completed"
    },
    "tags": []
   },
   "source": [
    "Merge"
   ]
  },
  {
   "cell_type": "code",
   "execution_count": 11,
   "id": "d1ac13ca",
   "metadata": {
    "execution": {
     "iopub.execute_input": "2023-03-03T09:12:10.756393Z",
     "iopub.status.busy": "2023-03-03T09:12:10.755945Z",
     "iopub.status.idle": "2023-03-03T09:12:10.823639Z",
     "shell.execute_reply": "2023-03-03T09:12:10.822361Z"
    },
    "papermill": {
     "duration": 0.090365,
     "end_time": "2023-03-03T09:12:10.826656",
     "exception": false,
     "start_time": "2023-03-03T09:12:10.736291",
     "status": "completed"
    },
    "tags": []
   },
   "outputs": [],
   "source": [
    "df_features_season_w = df_season_results.groupby(['Season', 'WTeamID']).count().reset_index()[['Season', 'WTeamID']].rename(columns={\"WTeamID\": \"TeamID\"})\n",
    "df_features_season_l = df_season_results.groupby(['Season', 'LTeamID']).count().reset_index()[['Season', 'LTeamID']].rename(columns={\"LTeamID\": \"TeamID\"})"
   ]
  },
  {
   "cell_type": "code",
   "execution_count": 12,
   "id": "c1d8f87b",
   "metadata": {
    "execution": {
     "iopub.execute_input": "2023-03-03T09:12:10.865001Z",
     "iopub.status.busy": "2023-03-03T09:12:10.863995Z",
     "iopub.status.idle": "2023-03-03T09:12:10.885831Z",
     "shell.execute_reply": "2023-03-03T09:12:10.884527Z"
    },
    "papermill": {
     "duration": 0.043721,
     "end_time": "2023-03-03T09:12:10.888472",
     "exception": false,
     "start_time": "2023-03-03T09:12:10.844751",
     "status": "completed"
    },
    "tags": []
   },
   "outputs": [],
   "source": [
    "df_features_season = pd.concat([df_features_season_w, df_features_season_l], axis=0).drop_duplicates().sort_values(['Season', 'TeamID']).reset_index(drop=True)"
   ]
  },
  {
   "cell_type": "code",
   "execution_count": 13,
   "id": "2f8d304c",
   "metadata": {
    "execution": {
     "iopub.execute_input": "2023-03-03T09:12:10.925408Z",
     "iopub.status.busy": "2023-03-03T09:12:10.924960Z",
     "iopub.status.idle": "2023-03-03T09:12:10.970558Z",
     "shell.execute_reply": "2023-03-03T09:12:10.969254Z"
    },
    "papermill": {
     "duration": 0.067304,
     "end_time": "2023-03-03T09:12:10.973520",
     "exception": false,
     "start_time": "2023-03-03T09:12:10.906216",
     "status": "completed"
    },
    "tags": []
   },
   "outputs": [],
   "source": [
    "df_features_season = df_features_season.merge(num_win, on=['Season', 'TeamID'], how='left')\n",
    "df_features_season = df_features_season.merge(num_loss, on=['Season', 'TeamID'], how='left')\n",
    "df_features_season = df_features_season.merge(gap_win, on=['Season', 'TeamID'], how='left')\n",
    "df_features_season = df_features_season.merge(gap_loss, on=['Season', 'TeamID'], how='left')"
   ]
  },
  {
   "cell_type": "code",
   "execution_count": 14,
   "id": "48ab1b2e",
   "metadata": {
    "execution": {
     "iopub.execute_input": "2023-03-03T09:12:11.012108Z",
     "iopub.status.busy": "2023-03-03T09:12:11.011130Z",
     "iopub.status.idle": "2023-03-03T09:12:11.017918Z",
     "shell.execute_reply": "2023-03-03T09:12:11.016671Z"
    },
    "papermill": {
     "duration": 0.029052,
     "end_time": "2023-03-03T09:12:11.020897",
     "exception": false,
     "start_time": "2023-03-03T09:12:10.991845",
     "status": "completed"
    },
    "tags": []
   },
   "outputs": [],
   "source": [
    "df_features_season.fillna(0, inplace=True)  "
   ]
  },
  {
   "cell_type": "markdown",
   "id": "785894e2",
   "metadata": {
    "papermill": {
     "duration": 0.017069,
     "end_time": "2023-03-03T09:12:11.055518",
     "exception": false,
     "start_time": "2023-03-03T09:12:11.038449",
     "status": "completed"
    },
    "tags": []
   },
   "source": [
    "Compute features"
   ]
  },
  {
   "cell_type": "code",
   "execution_count": 15,
   "id": "7ab13701",
   "metadata": {
    "execution": {
     "iopub.execute_input": "2023-03-03T09:12:11.092694Z",
     "iopub.status.busy": "2023-03-03T09:12:11.092250Z",
     "iopub.status.idle": "2023-03-03T09:12:11.101732Z",
     "shell.execute_reply": "2023-03-03T09:12:11.100494Z"
    },
    "papermill": {
     "duration": 0.031564,
     "end_time": "2023-03-03T09:12:11.104500",
     "exception": false,
     "start_time": "2023-03-03T09:12:11.072936",
     "status": "completed"
    },
    "tags": []
   },
   "outputs": [],
   "source": [
    "df_features_season['WinRatio'] = df_features_season['NumWins'] / (df_features_season['NumWins'] + df_features_season['NumLosses'])\n",
    "df_features_season['GapAvg'] = (\n",
    "    (df_features_season['NumWins'] * df_features_season['GapWins'] - \n",
    "    df_features_season['NumLosses'] * df_features_season['GapLosses'])\n",
    "    / (df_features_season['NumWins'] + df_features_season['NumLosses'])\n",
    ")"
   ]
  },
  {
   "cell_type": "code",
   "execution_count": 16,
   "id": "fe3f7443",
   "metadata": {
    "execution": {
     "iopub.execute_input": "2023-03-03T09:12:11.141277Z",
     "iopub.status.busy": "2023-03-03T09:12:11.140829Z",
     "iopub.status.idle": "2023-03-03T09:12:11.147888Z",
     "shell.execute_reply": "2023-03-03T09:12:11.146895Z"
    },
    "papermill": {
     "duration": 0.027698,
     "end_time": "2023-03-03T09:12:11.149963",
     "exception": false,
     "start_time": "2023-03-03T09:12:11.122265",
     "status": "completed"
    },
    "tags": []
   },
   "outputs": [],
   "source": [
    "df_features_season.drop(['NumWins', 'NumLosses', 'GapWins', 'GapLosses'], axis=1, inplace=True)"
   ]
  },
  {
   "cell_type": "markdown",
   "id": "9c0c577f",
   "metadata": {
    "papermill": {
     "duration": 0.017241,
     "end_time": "2023-03-03T09:12:11.184629",
     "exception": false,
     "start_time": "2023-03-03T09:12:11.167388",
     "status": "completed"
    },
    "tags": []
   },
   "source": [
    "## Tourney results\n",
    "\n",
    "> This file identifies the game-by-game NCAA® tournament results for all seasons of historical data. The data is formatted exactly like the MRegularSeasonCompactResults data. All games will show up as neutral site (so WLoc is always N). Note that this tournament game data also includes the play-in games (which always occurred on day 134/135) for those years that had play-in games. Thus each season you will see between 63 and 67 games listed, depending on how many play-in games there were."
   ]
  },
  {
   "cell_type": "code",
   "execution_count": 17,
   "id": "4f935006",
   "metadata": {
    "execution": {
     "iopub.execute_input": "2023-03-03T09:12:11.221896Z",
     "iopub.status.busy": "2023-03-03T09:12:11.220876Z",
     "iopub.status.idle": "2023-03-03T09:12:11.247088Z",
     "shell.execute_reply": "2023-03-03T09:12:11.246042Z"
    },
    "papermill": {
     "duration": 0.047847,
     "end_time": "2023-03-03T09:12:11.249849",
     "exception": false,
     "start_time": "2023-03-03T09:12:11.202002",
     "status": "completed"
    },
    "tags": []
   },
   "outputs": [],
   "source": [
    "df_tourney_results = pd.concat([\n",
    "    pd.read_csv(DATA_PATH + \"WNCAATourneyCompactResults.csv\"),\n",
    "    pd.read_csv(DATA_PATH + \"MNCAATourneyCompactResults.csv\"),\n",
    "], ignore_index=True)\n",
    "df_tourney_results.drop(['NumOT', 'WLoc'], axis=1, inplace=True)"
   ]
  },
  {
   "cell_type": "markdown",
   "id": "7f8a463b",
   "metadata": {
    "papermill": {
     "duration": 0.017093,
     "end_time": "2023-03-03T09:12:11.284628",
     "exception": false,
     "start_time": "2023-03-03T09:12:11.267535",
     "status": "completed"
    },
    "tags": []
   },
   "source": [
    "## FiveThirtyEight Ratings\n",
    "> Not available yet !"
   ]
  },
  {
   "cell_type": "code",
   "execution_count": 18,
   "id": "42209669",
   "metadata": {
    "execution": {
     "iopub.execute_input": "2023-03-03T09:12:11.321656Z",
     "iopub.status.busy": "2023-03-03T09:12:11.320845Z",
     "iopub.status.idle": "2023-03-03T09:12:11.324984Z",
     "shell.execute_reply": "2023-03-03T09:12:11.324121Z"
    },
    "papermill": {
     "duration": 0.025403,
     "end_time": "2023-03-03T09:12:11.327315",
     "exception": false,
     "start_time": "2023-03-03T09:12:11.301912",
     "status": "completed"
    },
    "tags": []
   },
   "outputs": [],
   "source": [
    "# df_538 = pd.read_csv(\"../input/ncaa-men-538-team-ratings/538ratingsMen.csv\")\n",
    "# df_538.drop('TeamName', axis=1, inplace=True)\n",
    "# df_538.head()"
   ]
  },
  {
   "cell_type": "markdown",
   "id": "4e82e907",
   "metadata": {
    "papermill": {
     "duration": 0.017319,
     "end_time": "2023-03-03T09:12:11.362259",
     "exception": false,
     "start_time": "2023-03-03T09:12:11.344940",
     "status": "completed"
    },
    "tags": []
   },
   "source": [
    "# Feature Engineering"
   ]
  },
  {
   "cell_type": "markdown",
   "id": "2bdcf6d7",
   "metadata": {
    "papermill": {
     "duration": 0.01802,
     "end_time": "2023-03-03T09:12:11.397751",
     "exception": false,
     "start_time": "2023-03-03T09:12:11.379731",
     "status": "completed"
    },
    "tags": []
   },
   "source": [
    "## Train data"
   ]
  },
  {
   "cell_type": "code",
   "execution_count": 19,
   "id": "c619e907",
   "metadata": {
    "execution": {
     "iopub.execute_input": "2023-03-03T09:12:11.435407Z",
     "iopub.status.busy": "2023-03-03T09:12:11.434628Z",
     "iopub.status.idle": "2023-03-03T09:12:11.446901Z",
     "shell.execute_reply": "2023-03-03T09:12:11.446056Z"
    },
    "papermill": {
     "duration": 0.033381,
     "end_time": "2023-03-03T09:12:11.449076",
     "exception": false,
     "start_time": "2023-03-03T09:12:11.415695",
     "status": "completed"
    },
    "tags": []
   },
   "outputs": [
    {
     "data": {
      "text/html": [
       "<div>\n",
       "<style scoped>\n",
       "    .dataframe tbody tr th:only-of-type {\n",
       "        vertical-align: middle;\n",
       "    }\n",
       "\n",
       "    .dataframe tbody tr th {\n",
       "        vertical-align: top;\n",
       "    }\n",
       "\n",
       "    .dataframe thead th {\n",
       "        text-align: right;\n",
       "    }\n",
       "</style>\n",
       "<table border=\"1\" class=\"dataframe\">\n",
       "  <thead>\n",
       "    <tr style=\"text-align: right;\">\n",
       "      <th></th>\n",
       "      <th>Season</th>\n",
       "      <th>DayNum</th>\n",
       "      <th>WTeamID</th>\n",
       "      <th>WScore</th>\n",
       "      <th>LTeamID</th>\n",
       "      <th>LScore</th>\n",
       "    </tr>\n",
       "  </thead>\n",
       "  <tbody>\n",
       "    <tr>\n",
       "      <th>0</th>\n",
       "      <td>2016</td>\n",
       "      <td>137</td>\n",
       "      <td>3107</td>\n",
       "      <td>61</td>\n",
       "      <td>3196</td>\n",
       "      <td>59</td>\n",
       "    </tr>\n",
       "    <tr>\n",
       "      <th>1</th>\n",
       "      <td>2016</td>\n",
       "      <td>137</td>\n",
       "      <td>3113</td>\n",
       "      <td>74</td>\n",
       "      <td>3308</td>\n",
       "      <td>52</td>\n",
       "    </tr>\n",
       "    <tr>\n",
       "      <th>2</th>\n",
       "      <td>2016</td>\n",
       "      <td>137</td>\n",
       "      <td>3120</td>\n",
       "      <td>68</td>\n",
       "      <td>3385</td>\n",
       "      <td>57</td>\n",
       "    </tr>\n",
       "    <tr>\n",
       "      <th>3</th>\n",
       "      <td>2016</td>\n",
       "      <td>137</td>\n",
       "      <td>3124</td>\n",
       "      <td>89</td>\n",
       "      <td>3225</td>\n",
       "      <td>59</td>\n",
       "    </tr>\n",
       "    <tr>\n",
       "      <th>4</th>\n",
       "      <td>2016</td>\n",
       "      <td>137</td>\n",
       "      <td>3177</td>\n",
       "      <td>97</td>\n",
       "      <td>3241</td>\n",
       "      <td>67</td>\n",
       "    </tr>\n",
       "  </tbody>\n",
       "</table>\n",
       "</div>"
      ],
      "text/plain": [
       "   Season  DayNum  WTeamID  WScore  LTeamID  LScore\n",
       "0    2016     137     3107      61     3196      59\n",
       "1    2016     137     3113      74     3308      52\n",
       "2    2016     137     3120      68     3385      57\n",
       "3    2016     137     3124      89     3225      59\n",
       "4    2016     137     3177      97     3241      67"
      ]
     },
     "execution_count": 19,
     "metadata": {},
     "output_type": "execute_result"
    }
   ],
   "source": [
    "df = df_tourney_results.copy()\n",
    "df = df[df['Season'] >= 2016].reset_index(drop=True)\n",
    "\n",
    "df.head()"
   ]
  },
  {
   "cell_type": "markdown",
   "id": "0318a4fb",
   "metadata": {
    "papermill": {
     "duration": 0.018451,
     "end_time": "2023-03-03T09:12:11.485531",
     "exception": false,
     "start_time": "2023-03-03T09:12:11.467080",
     "status": "completed"
    },
    "tags": []
   },
   "source": [
    "### Seeds\n",
    "- `SeedW` is the seed of the winning team\n",
    "- `SeedL` is the seed of the losing team"
   ]
  },
  {
   "cell_type": "code",
   "execution_count": 20,
   "id": "19885160",
   "metadata": {
    "execution": {
     "iopub.execute_input": "2023-03-03T09:12:11.523430Z",
     "iopub.status.busy": "2023-03-03T09:12:11.522632Z",
     "iopub.status.idle": "2023-03-03T09:12:11.533771Z",
     "shell.execute_reply": "2023-03-03T09:12:11.532560Z"
    },
    "papermill": {
     "duration": 0.033149,
     "end_time": "2023-03-03T09:12:11.536591",
     "exception": false,
     "start_time": "2023-03-03T09:12:11.503442",
     "status": "completed"
    },
    "tags": []
   },
   "outputs": [],
   "source": [
    "df = pd.merge(\n",
    "    df, \n",
    "    df_seeds, \n",
    "    how='left', \n",
    "    left_on=['Season', 'WTeamID'], \n",
    "    right_on=['Season', 'TeamID']\n",
    ").drop('TeamID', axis=1).rename(columns={'Seed': 'SeedW'})"
   ]
  },
  {
   "cell_type": "code",
   "execution_count": 21,
   "id": "0781a00a",
   "metadata": {
    "execution": {
     "iopub.execute_input": "2023-03-03T09:12:11.574235Z",
     "iopub.status.busy": "2023-03-03T09:12:11.573592Z",
     "iopub.status.idle": "2023-03-03T09:12:11.584066Z",
     "shell.execute_reply": "2023-03-03T09:12:11.583105Z"
    },
    "papermill": {
     "duration": 0.032159,
     "end_time": "2023-03-03T09:12:11.586523",
     "exception": false,
     "start_time": "2023-03-03T09:12:11.554364",
     "status": "completed"
    },
    "tags": []
   },
   "outputs": [],
   "source": [
    "df = pd.merge(\n",
    "    df, \n",
    "    df_seeds, \n",
    "    how='left', \n",
    "    left_on=['Season', 'LTeamID'], \n",
    "    right_on=['Season', 'TeamID']\n",
    ").drop('TeamID', axis=1).rename(columns={'Seed': 'SeedL'})"
   ]
  },
  {
   "cell_type": "code",
   "execution_count": 22,
   "id": "6823878b",
   "metadata": {
    "execution": {
     "iopub.execute_input": "2023-03-03T09:12:11.623688Z",
     "iopub.status.busy": "2023-03-03T09:12:11.623063Z",
     "iopub.status.idle": "2023-03-03T09:12:11.627675Z",
     "shell.execute_reply": "2023-03-03T09:12:11.626554Z"
    },
    "papermill": {
     "duration": 0.025989,
     "end_time": "2023-03-03T09:12:11.630063",
     "exception": false,
     "start_time": "2023-03-03T09:12:11.604074",
     "status": "completed"
    },
    "tags": []
   },
   "outputs": [],
   "source": [
    "def treat_seed(seed):\n",
    "    return int(re.sub(\"[^0-9]\", \"\", seed))"
   ]
  },
  {
   "cell_type": "code",
   "execution_count": 23,
   "id": "65213c63",
   "metadata": {
    "execution": {
     "iopub.execute_input": "2023-03-03T09:12:11.667277Z",
     "iopub.status.busy": "2023-03-03T09:12:11.666824Z",
     "iopub.status.idle": "2023-03-03T09:12:11.678428Z",
     "shell.execute_reply": "2023-03-03T09:12:11.676965Z"
    },
    "papermill": {
     "duration": 0.03281,
     "end_time": "2023-03-03T09:12:11.680903",
     "exception": false,
     "start_time": "2023-03-03T09:12:11.648093",
     "status": "completed"
    },
    "tags": []
   },
   "outputs": [],
   "source": [
    "df['SeedW'] = df['SeedW'].apply(treat_seed)\n",
    "df['SeedL'] = df['SeedL'].apply(treat_seed)"
   ]
  },
  {
   "cell_type": "code",
   "execution_count": 24,
   "id": "420fc40f",
   "metadata": {
    "execution": {
     "iopub.execute_input": "2023-03-03T09:12:11.718560Z",
     "iopub.status.busy": "2023-03-03T09:12:11.718086Z",
     "iopub.status.idle": "2023-03-03T09:12:11.731074Z",
     "shell.execute_reply": "2023-03-03T09:12:11.729836Z"
    },
    "papermill": {
     "duration": 0.03477,
     "end_time": "2023-03-03T09:12:11.733516",
     "exception": false,
     "start_time": "2023-03-03T09:12:11.698746",
     "status": "completed"
    },
    "tags": []
   },
   "outputs": [
    {
     "data": {
      "text/html": [
       "<div>\n",
       "<style scoped>\n",
       "    .dataframe tbody tr th:only-of-type {\n",
       "        vertical-align: middle;\n",
       "    }\n",
       "\n",
       "    .dataframe tbody tr th {\n",
       "        vertical-align: top;\n",
       "    }\n",
       "\n",
       "    .dataframe thead th {\n",
       "        text-align: right;\n",
       "    }\n",
       "</style>\n",
       "<table border=\"1\" class=\"dataframe\">\n",
       "  <thead>\n",
       "    <tr style=\"text-align: right;\">\n",
       "      <th></th>\n",
       "      <th>Season</th>\n",
       "      <th>DayNum</th>\n",
       "      <th>WTeamID</th>\n",
       "      <th>WScore</th>\n",
       "      <th>LTeamID</th>\n",
       "      <th>LScore</th>\n",
       "      <th>SeedW</th>\n",
       "      <th>SeedL</th>\n",
       "    </tr>\n",
       "  </thead>\n",
       "  <tbody>\n",
       "    <tr>\n",
       "      <th>0</th>\n",
       "      <td>2016</td>\n",
       "      <td>137</td>\n",
       "      <td>3107</td>\n",
       "      <td>61</td>\n",
       "      <td>3196</td>\n",
       "      <td>59</td>\n",
       "      <td>12</td>\n",
       "      <td>5</td>\n",
       "    </tr>\n",
       "    <tr>\n",
       "      <th>1</th>\n",
       "      <td>2016</td>\n",
       "      <td>137</td>\n",
       "      <td>3113</td>\n",
       "      <td>74</td>\n",
       "      <td>3308</td>\n",
       "      <td>52</td>\n",
       "      <td>2</td>\n",
       "      <td>15</td>\n",
       "    </tr>\n",
       "    <tr>\n",
       "      <th>2</th>\n",
       "      <td>2016</td>\n",
       "      <td>137</td>\n",
       "      <td>3120</td>\n",
       "      <td>68</td>\n",
       "      <td>3385</td>\n",
       "      <td>57</td>\n",
       "      <td>9</td>\n",
       "      <td>8</td>\n",
       "    </tr>\n",
       "    <tr>\n",
       "      <th>3</th>\n",
       "      <td>2016</td>\n",
       "      <td>137</td>\n",
       "      <td>3124</td>\n",
       "      <td>89</td>\n",
       "      <td>3225</td>\n",
       "      <td>59</td>\n",
       "      <td>1</td>\n",
       "      <td>16</td>\n",
       "    </tr>\n",
       "    <tr>\n",
       "      <th>4</th>\n",
       "      <td>2016</td>\n",
       "      <td>137</td>\n",
       "      <td>3177</td>\n",
       "      <td>97</td>\n",
       "      <td>3241</td>\n",
       "      <td>67</td>\n",
       "      <td>6</td>\n",
       "      <td>11</td>\n",
       "    </tr>\n",
       "  </tbody>\n",
       "</table>\n",
       "</div>"
      ],
      "text/plain": [
       "   Season  DayNum  WTeamID  WScore  LTeamID  LScore  SeedW  SeedL\n",
       "0    2016     137     3107      61     3196      59     12      5\n",
       "1    2016     137     3113      74     3308      52      2     15\n",
       "2    2016     137     3120      68     3385      57      9      8\n",
       "3    2016     137     3124      89     3225      59      1     16\n",
       "4    2016     137     3177      97     3241      67      6     11"
      ]
     },
     "execution_count": 24,
     "metadata": {},
     "output_type": "execute_result"
    }
   ],
   "source": [
    "df.head()"
   ]
  },
  {
   "cell_type": "markdown",
   "id": "c987be20",
   "metadata": {
    "papermill": {
     "duration": 0.018727,
     "end_time": "2023-03-03T09:12:11.770663",
     "exception": false,
     "start_time": "2023-03-03T09:12:11.751936",
     "status": "completed"
    },
    "tags": []
   },
   "source": [
    "### Season Stats\n",
    "- `WinRatioW` is the win ratio of the winning team during the season\n",
    "- `WinRatioL` is the win ratio of the losing team during the season"
   ]
  },
  {
   "cell_type": "code",
   "execution_count": 25,
   "id": "47db23ee",
   "metadata": {
    "execution": {
     "iopub.execute_input": "2023-03-03T09:12:11.808330Z",
     "iopub.status.busy": "2023-03-03T09:12:11.807920Z",
     "iopub.status.idle": "2023-03-03T09:12:11.822882Z",
     "shell.execute_reply": "2023-03-03T09:12:11.821653Z"
    },
    "papermill": {
     "duration": 0.036559,
     "end_time": "2023-03-03T09:12:11.825418",
     "exception": false,
     "start_time": "2023-03-03T09:12:11.788859",
     "status": "completed"
    },
    "tags": []
   },
   "outputs": [],
   "source": [
    "df = pd.merge(\n",
    "    df,\n",
    "    df_features_season,\n",
    "    how='left',\n",
    "    left_on=['Season', 'WTeamID'],\n",
    "    right_on=['Season', 'TeamID']\n",
    ").rename(columns={\n",
    "    'NumWins': 'NumWinsW',\n",
    "    'NumLosses': 'NumLossesW',\n",
    "    'GapWins': 'GapWinsW',\n",
    "    'GapLosses': 'GapLossesW',\n",
    "    'WinRatio': 'WinRatioW',\n",
    "    'GapAvg': 'GapAvgW',\n",
    "}).drop(columns='TeamID', axis=1)"
   ]
  },
  {
   "cell_type": "code",
   "execution_count": 26,
   "id": "167c532d",
   "metadata": {
    "execution": {
     "iopub.execute_input": "2023-03-03T09:12:11.863410Z",
     "iopub.status.busy": "2023-03-03T09:12:11.862925Z",
     "iopub.status.idle": "2023-03-03T09:12:11.876816Z",
     "shell.execute_reply": "2023-03-03T09:12:11.875717Z"
    },
    "papermill": {
     "duration": 0.036122,
     "end_time": "2023-03-03T09:12:11.879560",
     "exception": false,
     "start_time": "2023-03-03T09:12:11.843438",
     "status": "completed"
    },
    "tags": []
   },
   "outputs": [],
   "source": [
    "df = pd.merge(\n",
    "    df,\n",
    "    df_features_season,\n",
    "    how='left',\n",
    "    left_on=['Season', 'LTeamID'],\n",
    "    right_on=['Season', 'TeamID']\n",
    ").rename(columns={\n",
    "    'NumWins': 'NumWinsL',\n",
    "    'NumLosses': 'NumLossesL',\n",
    "    'GapWins': 'GapWinsL',\n",
    "    'GapLosses': 'GapLossesL',\n",
    "    'WinRatio': 'WinRatioL',\n",
    "    'GapAvg': 'GapAvgL',\n",
    "}).drop(columns='TeamID', axis=1)"
   ]
  },
  {
   "cell_type": "code",
   "execution_count": 27,
   "id": "1563e780",
   "metadata": {
    "execution": {
     "iopub.execute_input": "2023-03-03T09:12:11.918982Z",
     "iopub.status.busy": "2023-03-03T09:12:11.918276Z",
     "iopub.status.idle": "2023-03-03T09:12:11.933328Z",
     "shell.execute_reply": "2023-03-03T09:12:11.932315Z"
    },
    "papermill": {
     "duration": 0.037166,
     "end_time": "2023-03-03T09:12:11.935692",
     "exception": false,
     "start_time": "2023-03-03T09:12:11.898526",
     "status": "completed"
    },
    "tags": []
   },
   "outputs": [
    {
     "data": {
      "text/html": [
       "<div>\n",
       "<style scoped>\n",
       "    .dataframe tbody tr th:only-of-type {\n",
       "        vertical-align: middle;\n",
       "    }\n",
       "\n",
       "    .dataframe tbody tr th {\n",
       "        vertical-align: top;\n",
       "    }\n",
       "\n",
       "    .dataframe thead th {\n",
       "        text-align: right;\n",
       "    }\n",
       "</style>\n",
       "<table border=\"1\" class=\"dataframe\">\n",
       "  <thead>\n",
       "    <tr style=\"text-align: right;\">\n",
       "      <th></th>\n",
       "      <th>Season</th>\n",
       "      <th>DayNum</th>\n",
       "      <th>WTeamID</th>\n",
       "      <th>WScore</th>\n",
       "      <th>LTeamID</th>\n",
       "      <th>LScore</th>\n",
       "      <th>SeedW</th>\n",
       "      <th>SeedL</th>\n",
       "      <th>WinRatioW</th>\n",
       "      <th>GapAvgW</th>\n",
       "      <th>WinRatioL</th>\n",
       "      <th>GapAvgL</th>\n",
       "    </tr>\n",
       "  </thead>\n",
       "  <tbody>\n",
       "    <tr>\n",
       "      <th>0</th>\n",
       "      <td>2016</td>\n",
       "      <td>137</td>\n",
       "      <td>3107</td>\n",
       "      <td>61</td>\n",
       "      <td>3196</td>\n",
       "      <td>59</td>\n",
       "      <td>12</td>\n",
       "      <td>5</td>\n",
       "      <td>0.870968</td>\n",
       "      <td>18.677419</td>\n",
       "      <td>0.733333</td>\n",
       "      <td>8.700000</td>\n",
       "    </tr>\n",
       "    <tr>\n",
       "      <th>1</th>\n",
       "      <td>2016</td>\n",
       "      <td>137</td>\n",
       "      <td>3113</td>\n",
       "      <td>74</td>\n",
       "      <td>3308</td>\n",
       "      <td>52</td>\n",
       "      <td>2</td>\n",
       "      <td>15</td>\n",
       "      <td>0.806452</td>\n",
       "      <td>9.258065</td>\n",
       "      <td>0.857143</td>\n",
       "      <td>8.964286</td>\n",
       "    </tr>\n",
       "    <tr>\n",
       "      <th>2</th>\n",
       "      <td>2016</td>\n",
       "      <td>137</td>\n",
       "      <td>3120</td>\n",
       "      <td>68</td>\n",
       "      <td>3385</td>\n",
       "      <td>57</td>\n",
       "      <td>9</td>\n",
       "      <td>8</td>\n",
       "      <td>0.612903</td>\n",
       "      <td>3.032258</td>\n",
       "      <td>0.718750</td>\n",
       "      <td>6.812500</td>\n",
       "    </tr>\n",
       "    <tr>\n",
       "      <th>3</th>\n",
       "      <td>2016</td>\n",
       "      <td>137</td>\n",
       "      <td>3124</td>\n",
       "      <td>89</td>\n",
       "      <td>3225</td>\n",
       "      <td>59</td>\n",
       "      <td>1</td>\n",
       "      <td>16</td>\n",
       "      <td>0.970588</td>\n",
       "      <td>24.617647</td>\n",
       "      <td>0.709677</td>\n",
       "      <td>10.612903</td>\n",
       "    </tr>\n",
       "    <tr>\n",
       "      <th>4</th>\n",
       "      <td>2016</td>\n",
       "      <td>137</td>\n",
       "      <td>3177</td>\n",
       "      <td>97</td>\n",
       "      <td>3241</td>\n",
       "      <td>67</td>\n",
       "      <td>6</td>\n",
       "      <td>11</td>\n",
       "      <td>0.757576</td>\n",
       "      <td>16.272727</td>\n",
       "      <td>0.843750</td>\n",
       "      <td>15.406250</td>\n",
       "    </tr>\n",
       "  </tbody>\n",
       "</table>\n",
       "</div>"
      ],
      "text/plain": [
       "   Season  DayNum  WTeamID  WScore  LTeamID  LScore  SeedW  SeedL  WinRatioW  \\\n",
       "0    2016     137     3107      61     3196      59     12      5   0.870968   \n",
       "1    2016     137     3113      74     3308      52      2     15   0.806452   \n",
       "2    2016     137     3120      68     3385      57      9      8   0.612903   \n",
       "3    2016     137     3124      89     3225      59      1     16   0.970588   \n",
       "4    2016     137     3177      97     3241      67      6     11   0.757576   \n",
       "\n",
       "     GapAvgW  WinRatioL    GapAvgL  \n",
       "0  18.677419   0.733333   8.700000  \n",
       "1   9.258065   0.857143   8.964286  \n",
       "2   3.032258   0.718750   6.812500  \n",
       "3  24.617647   0.709677  10.612903  \n",
       "4  16.272727   0.843750  15.406250  "
      ]
     },
     "execution_count": 27,
     "metadata": {},
     "output_type": "execute_result"
    }
   ],
   "source": [
    "df.head()"
   ]
  },
  {
   "cell_type": "markdown",
   "id": "4df0962c",
   "metadata": {
    "papermill": {
     "duration": 0.018802,
     "end_time": "2023-03-03T09:12:11.973908",
     "exception": false,
     "start_time": "2023-03-03T09:12:11.955106",
     "status": "completed"
    },
    "tags": []
   },
   "source": [
    "### FiveThirtyEight Ratings\n",
    "- `538ratingW` is the rating of the winning team during the season\n",
    "- `538ratingL` is the rating of the losing team during the season"
   ]
  },
  {
   "cell_type": "code",
   "execution_count": 28,
   "id": "32330c53",
   "metadata": {
    "execution": {
     "iopub.execute_input": "2023-03-03T09:12:12.012360Z",
     "iopub.status.busy": "2023-03-03T09:12:12.011597Z",
     "iopub.status.idle": "2023-03-03T09:12:12.016668Z",
     "shell.execute_reply": "2023-03-03T09:12:12.015452Z"
    },
    "papermill": {
     "duration": 0.027485,
     "end_time": "2023-03-03T09:12:12.019490",
     "exception": false,
     "start_time": "2023-03-03T09:12:11.992005",
     "status": "completed"
    },
    "tags": []
   },
   "outputs": [],
   "source": [
    "# df = pd.merge(\n",
    "#     df,\n",
    "#     df_538,\n",
    "#     how='left',\n",
    "#     left_on=['Season', 'WTeamID'],\n",
    "#     right_on=['Season', 'TeamID']\n",
    "# ).drop('TeamID', axis=1).rename(columns={'538rating': '538ratingW'})"
   ]
  },
  {
   "cell_type": "code",
   "execution_count": 29,
   "id": "e33493ff",
   "metadata": {
    "execution": {
     "iopub.execute_input": "2023-03-03T09:12:12.057981Z",
     "iopub.status.busy": "2023-03-03T09:12:12.057526Z",
     "iopub.status.idle": "2023-03-03T09:12:12.062975Z",
     "shell.execute_reply": "2023-03-03T09:12:12.061711Z"
    },
    "papermill": {
     "duration": 0.027492,
     "end_time": "2023-03-03T09:12:12.065581",
     "exception": false,
     "start_time": "2023-03-03T09:12:12.038089",
     "status": "completed"
    },
    "tags": []
   },
   "outputs": [],
   "source": [
    "# df = pd.merge(\n",
    "#     df, \n",
    "#     df_538, \n",
    "#     how='left', \n",
    "#     left_on=['Season', 'LTeamID'], \n",
    "#     right_on=['Season', 'TeamID']\n",
    "# ).drop('TeamID', axis=1).rename(columns={'538rating': '538ratingL'})"
   ]
  },
  {
   "cell_type": "code",
   "execution_count": 30,
   "id": "9adb7994",
   "metadata": {
    "execution": {
     "iopub.execute_input": "2023-03-03T09:12:12.106516Z",
     "iopub.status.busy": "2023-03-03T09:12:12.106044Z",
     "iopub.status.idle": "2023-03-03T09:12:12.110785Z",
     "shell.execute_reply": "2023-03-03T09:12:12.109566Z"
    },
    "papermill": {
     "duration": 0.028265,
     "end_time": "2023-03-03T09:12:12.113100",
     "exception": false,
     "start_time": "2023-03-03T09:12:12.084835",
     "status": "completed"
    },
    "tags": []
   },
   "outputs": [],
   "source": [
    "# df.head()"
   ]
  },
  {
   "cell_type": "markdown",
   "id": "77418699",
   "metadata": {
    "papermill": {
     "duration": 0.01779,
     "end_time": "2023-03-03T09:12:12.149576",
     "exception": false,
     "start_time": "2023-03-03T09:12:12.131786",
     "status": "completed"
    },
    "tags": []
   },
   "source": [
    "### Add symetrical\n",
    "- Right now our data only consists of won matches\n",
    "- We duplicate our data, get rid of the winner loser "
   ]
  },
  {
   "cell_type": "code",
   "execution_count": 31,
   "id": "7d66836e",
   "metadata": {
    "execution": {
     "iopub.execute_input": "2023-03-03T09:12:12.188796Z",
     "iopub.status.busy": "2023-03-03T09:12:12.187911Z",
     "iopub.status.idle": "2023-03-03T09:12:12.197319Z",
     "shell.execute_reply": "2023-03-03T09:12:12.196312Z"
    },
    "papermill": {
     "duration": 0.032301,
     "end_time": "2023-03-03T09:12:12.200215",
     "exception": false,
     "start_time": "2023-03-03T09:12:12.167914",
     "status": "completed"
    },
    "tags": []
   },
   "outputs": [],
   "source": [
    "def add_loosing_matches(df):\n",
    "    win_rename = {\n",
    "        \"WTeamID\": \"TeamIdA\", \n",
    "        \"WScore\" : \"ScoreA\", \n",
    "        \"LTeamID\" : \"TeamIdB\",\n",
    "        \"LScore\": \"ScoreB\",\n",
    "     }\n",
    "    win_rename.update({c : c[:-1] + \"A\" for c in df.columns if c.endswith('W')})\n",
    "    win_rename.update({c : c[:-1] + \"B\" for c in df.columns if c.endswith('L')})\n",
    "    \n",
    "    lose_rename = {\n",
    "        \"WTeamID\": \"TeamIdB\", \n",
    "        \"WScore\" : \"ScoreB\", \n",
    "        \"LTeamID\" : \"TeamIdA\",\n",
    "        \"LScore\": \"ScoreA\",\n",
    "    }\n",
    "    lose_rename.update({c : c[:-1] + \"B\" for c in df.columns if c.endswith('W')})\n",
    "    lose_rename.update({c : c[:-1] + \"A\" for c in df.columns if c.endswith('L')})\n",
    "    \n",
    "    win_df = df.copy()\n",
    "    lose_df = df.copy()\n",
    "    \n",
    "    win_df = win_df.rename(columns=win_rename)\n",
    "    lose_df = lose_df.rename(columns=lose_rename)\n",
    "    \n",
    "    return pd.concat([win_df, lose_df], axis=0, sort=False)"
   ]
  },
  {
   "cell_type": "code",
   "execution_count": 32,
   "id": "b52ce728",
   "metadata": {
    "execution": {
     "iopub.execute_input": "2023-03-03T09:12:12.238878Z",
     "iopub.status.busy": "2023-03-03T09:12:12.238095Z",
     "iopub.status.idle": "2023-03-03T09:12:12.245026Z",
     "shell.execute_reply": "2023-03-03T09:12:12.244137Z"
    },
    "papermill": {
     "duration": 0.029172,
     "end_time": "2023-03-03T09:12:12.247695",
     "exception": false,
     "start_time": "2023-03-03T09:12:12.218523",
     "status": "completed"
    },
    "tags": []
   },
   "outputs": [],
   "source": [
    "df = add_loosing_matches(df)"
   ]
  },
  {
   "cell_type": "code",
   "execution_count": 33,
   "id": "1fa68800",
   "metadata": {
    "execution": {
     "iopub.execute_input": "2023-03-03T09:12:12.286679Z",
     "iopub.status.busy": "2023-03-03T09:12:12.286243Z",
     "iopub.status.idle": "2023-03-03T09:12:12.302798Z",
     "shell.execute_reply": "2023-03-03T09:12:12.301878Z"
    },
    "papermill": {
     "duration": 0.038524,
     "end_time": "2023-03-03T09:12:12.304907",
     "exception": false,
     "start_time": "2023-03-03T09:12:12.266383",
     "status": "completed"
    },
    "tags": []
   },
   "outputs": [
    {
     "data": {
      "text/html": [
       "<div>\n",
       "<style scoped>\n",
       "    .dataframe tbody tr th:only-of-type {\n",
       "        vertical-align: middle;\n",
       "    }\n",
       "\n",
       "    .dataframe tbody tr th {\n",
       "        vertical-align: top;\n",
       "    }\n",
       "\n",
       "    .dataframe thead th {\n",
       "        text-align: right;\n",
       "    }\n",
       "</style>\n",
       "<table border=\"1\" class=\"dataframe\">\n",
       "  <thead>\n",
       "    <tr style=\"text-align: right;\">\n",
       "      <th></th>\n",
       "      <th>Season</th>\n",
       "      <th>DayNum</th>\n",
       "      <th>TeamIdA</th>\n",
       "      <th>ScoreA</th>\n",
       "      <th>TeamIdB</th>\n",
       "      <th>ScoreB</th>\n",
       "      <th>SeedA</th>\n",
       "      <th>SeedB</th>\n",
       "      <th>WinRatioA</th>\n",
       "      <th>GapAvgA</th>\n",
       "      <th>WinRatioB</th>\n",
       "      <th>GapAvgB</th>\n",
       "    </tr>\n",
       "  </thead>\n",
       "  <tbody>\n",
       "    <tr>\n",
       "      <th>0</th>\n",
       "      <td>2016</td>\n",
       "      <td>137</td>\n",
       "      <td>3107</td>\n",
       "      <td>61</td>\n",
       "      <td>3196</td>\n",
       "      <td>59</td>\n",
       "      <td>12</td>\n",
       "      <td>5</td>\n",
       "      <td>0.870968</td>\n",
       "      <td>18.677419</td>\n",
       "      <td>0.733333</td>\n",
       "      <td>8.700000</td>\n",
       "    </tr>\n",
       "    <tr>\n",
       "      <th>1</th>\n",
       "      <td>2016</td>\n",
       "      <td>137</td>\n",
       "      <td>3113</td>\n",
       "      <td>74</td>\n",
       "      <td>3308</td>\n",
       "      <td>52</td>\n",
       "      <td>2</td>\n",
       "      <td>15</td>\n",
       "      <td>0.806452</td>\n",
       "      <td>9.258065</td>\n",
       "      <td>0.857143</td>\n",
       "      <td>8.964286</td>\n",
       "    </tr>\n",
       "    <tr>\n",
       "      <th>2</th>\n",
       "      <td>2016</td>\n",
       "      <td>137</td>\n",
       "      <td>3120</td>\n",
       "      <td>68</td>\n",
       "      <td>3385</td>\n",
       "      <td>57</td>\n",
       "      <td>9</td>\n",
       "      <td>8</td>\n",
       "      <td>0.612903</td>\n",
       "      <td>3.032258</td>\n",
       "      <td>0.718750</td>\n",
       "      <td>6.812500</td>\n",
       "    </tr>\n",
       "    <tr>\n",
       "      <th>3</th>\n",
       "      <td>2016</td>\n",
       "      <td>137</td>\n",
       "      <td>3124</td>\n",
       "      <td>89</td>\n",
       "      <td>3225</td>\n",
       "      <td>59</td>\n",
       "      <td>1</td>\n",
       "      <td>16</td>\n",
       "      <td>0.970588</td>\n",
       "      <td>24.617647</td>\n",
       "      <td>0.709677</td>\n",
       "      <td>10.612903</td>\n",
       "    </tr>\n",
       "    <tr>\n",
       "      <th>4</th>\n",
       "      <td>2016</td>\n",
       "      <td>137</td>\n",
       "      <td>3177</td>\n",
       "      <td>97</td>\n",
       "      <td>3241</td>\n",
       "      <td>67</td>\n",
       "      <td>6</td>\n",
       "      <td>11</td>\n",
       "      <td>0.757576</td>\n",
       "      <td>16.272727</td>\n",
       "      <td>0.843750</td>\n",
       "      <td>15.406250</td>\n",
       "    </tr>\n",
       "  </tbody>\n",
       "</table>\n",
       "</div>"
      ],
      "text/plain": [
       "   Season  DayNum  TeamIdA  ScoreA  TeamIdB  ScoreB  SeedA  SeedB  WinRatioA  \\\n",
       "0    2016     137     3107      61     3196      59     12      5   0.870968   \n",
       "1    2016     137     3113      74     3308      52      2     15   0.806452   \n",
       "2    2016     137     3120      68     3385      57      9      8   0.612903   \n",
       "3    2016     137     3124      89     3225      59      1     16   0.970588   \n",
       "4    2016     137     3177      97     3241      67      6     11   0.757576   \n",
       "\n",
       "     GapAvgA  WinRatioB    GapAvgB  \n",
       "0  18.677419   0.733333   8.700000  \n",
       "1   9.258065   0.857143   8.964286  \n",
       "2   3.032258   0.718750   6.812500  \n",
       "3  24.617647   0.709677  10.612903  \n",
       "4  16.272727   0.843750  15.406250  "
      ]
     },
     "execution_count": 33,
     "metadata": {},
     "output_type": "execute_result"
    }
   ],
   "source": [
    "df.head()"
   ]
  },
  {
   "cell_type": "markdown",
   "id": "661a1299",
   "metadata": {
    "papermill": {
     "duration": 0.018292,
     "end_time": "2023-03-03T09:12:12.342071",
     "exception": false,
     "start_time": "2023-03-03T09:12:12.323779",
     "status": "completed"
    },
    "tags": []
   },
   "source": [
    "### Differences\n",
    "- We compute the difference between the team for each feature.\n",
    "- This helps further assessing how better (or worse) team A is from team B"
   ]
  },
  {
   "cell_type": "code",
   "execution_count": 34,
   "id": "e3be7cf3",
   "metadata": {
    "execution": {
     "iopub.execute_input": "2023-03-03T09:12:12.381029Z",
     "iopub.status.busy": "2023-03-03T09:12:12.380193Z",
     "iopub.status.idle": "2023-03-03T09:12:12.389438Z",
     "shell.execute_reply": "2023-03-03T09:12:12.388429Z"
    },
    "papermill": {
     "duration": 0.031857,
     "end_time": "2023-03-03T09:12:12.392309",
     "exception": false,
     "start_time": "2023-03-03T09:12:12.360452",
     "status": "completed"
    },
    "tags": []
   },
   "outputs": [],
   "source": [
    "cols_to_diff = [\n",
    "    'Seed', 'WinRatio', 'GapAvg', # '538rating'\n",
    "]\n",
    "\n",
    "for col in cols_to_diff:\n",
    "    df[col + 'Diff'] = df[col + 'A'] - df[col + 'B']"
   ]
  },
  {
   "cell_type": "markdown",
   "id": "6a6cd972",
   "metadata": {
    "papermill": {
     "duration": 0.018123,
     "end_time": "2023-03-03T09:12:12.429606",
     "exception": false,
     "start_time": "2023-03-03T09:12:12.411483",
     "status": "completed"
    },
    "tags": []
   },
   "source": [
    "## Test Data"
   ]
  },
  {
   "cell_type": "markdown",
   "id": "316ad40a",
   "metadata": {
    "papermill": {
     "duration": 0.018127,
     "end_time": "2023-03-03T09:12:12.466095",
     "exception": false,
     "start_time": "2023-03-03T09:12:12.447968",
     "status": "completed"
    },
    "tags": []
   },
   "source": [
    "### Preparing"
   ]
  },
  {
   "cell_type": "code",
   "execution_count": 35,
   "id": "fc378900",
   "metadata": {
    "execution": {
     "iopub.execute_input": "2023-03-03T09:12:12.506112Z",
     "iopub.status.busy": "2023-03-03T09:12:12.505365Z",
     "iopub.status.idle": "2023-03-03T09:12:12.619084Z",
     "shell.execute_reply": "2023-03-03T09:12:12.617615Z"
    },
    "papermill": {
     "duration": 0.137377,
     "end_time": "2023-03-03T09:12:12.622084",
     "exception": false,
     "start_time": "2023-03-03T09:12:12.484707",
     "status": "completed"
    },
    "tags": []
   },
   "outputs": [],
   "source": [
    "df_test = pd.read_csv(DATA_PATH + \"SampleSubmission2023.csv\")"
   ]
  },
  {
   "cell_type": "code",
   "execution_count": 36,
   "id": "4ca06115",
   "metadata": {
    "execution": {
     "iopub.execute_input": "2023-03-03T09:12:12.661531Z",
     "iopub.status.busy": "2023-03-03T09:12:12.661083Z",
     "iopub.status.idle": "2023-03-03T09:12:12.976876Z",
     "shell.execute_reply": "2023-03-03T09:12:12.975671Z"
    },
    "papermill": {
     "duration": 0.339066,
     "end_time": "2023-03-03T09:12:12.979936",
     "exception": false,
     "start_time": "2023-03-03T09:12:12.640870",
     "status": "completed"
    },
    "tags": []
   },
   "outputs": [],
   "source": [
    "df_test['Season'] = df_test['ID'].apply(lambda x: int(x.split('_')[0]))\n",
    "df_test['TeamIdA'] = df_test['ID'].apply(lambda x: int(x.split('_')[1]))\n",
    "df_test['TeamIdB'] = df_test['ID'].apply(lambda x: int(x.split('_')[2]))"
   ]
  },
  {
   "cell_type": "code",
   "execution_count": 37,
   "id": "af1d9889",
   "metadata": {
    "execution": {
     "iopub.execute_input": "2023-03-03T09:12:13.019248Z",
     "iopub.status.busy": "2023-03-03T09:12:13.018782Z",
     "iopub.status.idle": "2023-03-03T09:12:13.031604Z",
     "shell.execute_reply": "2023-03-03T09:12:13.030415Z"
    },
    "papermill": {
     "duration": 0.035763,
     "end_time": "2023-03-03T09:12:13.034210",
     "exception": false,
     "start_time": "2023-03-03T09:12:12.998447",
     "status": "completed"
    },
    "tags": []
   },
   "outputs": [
    {
     "data": {
      "text/html": [
       "<div>\n",
       "<style scoped>\n",
       "    .dataframe tbody tr th:only-of-type {\n",
       "        vertical-align: middle;\n",
       "    }\n",
       "\n",
       "    .dataframe tbody tr th {\n",
       "        vertical-align: top;\n",
       "    }\n",
       "\n",
       "    .dataframe thead th {\n",
       "        text-align: right;\n",
       "    }\n",
       "</style>\n",
       "<table border=\"1\" class=\"dataframe\">\n",
       "  <thead>\n",
       "    <tr style=\"text-align: right;\">\n",
       "      <th></th>\n",
       "      <th>ID</th>\n",
       "      <th>Pred</th>\n",
       "      <th>Season</th>\n",
       "      <th>TeamIdA</th>\n",
       "      <th>TeamIdB</th>\n",
       "    </tr>\n",
       "  </thead>\n",
       "  <tbody>\n",
       "    <tr>\n",
       "      <th>0</th>\n",
       "      <td>2023_1101_1102</td>\n",
       "      <td>0.5</td>\n",
       "      <td>2023</td>\n",
       "      <td>1101</td>\n",
       "      <td>1102</td>\n",
       "    </tr>\n",
       "    <tr>\n",
       "      <th>1</th>\n",
       "      <td>2023_1101_1103</td>\n",
       "      <td>0.5</td>\n",
       "      <td>2023</td>\n",
       "      <td>1101</td>\n",
       "      <td>1103</td>\n",
       "    </tr>\n",
       "    <tr>\n",
       "      <th>2</th>\n",
       "      <td>2023_1101_1104</td>\n",
       "      <td>0.5</td>\n",
       "      <td>2023</td>\n",
       "      <td>1101</td>\n",
       "      <td>1104</td>\n",
       "    </tr>\n",
       "    <tr>\n",
       "      <th>3</th>\n",
       "      <td>2023_1101_1105</td>\n",
       "      <td>0.5</td>\n",
       "      <td>2023</td>\n",
       "      <td>1101</td>\n",
       "      <td>1105</td>\n",
       "    </tr>\n",
       "    <tr>\n",
       "      <th>4</th>\n",
       "      <td>2023_1101_1106</td>\n",
       "      <td>0.5</td>\n",
       "      <td>2023</td>\n",
       "      <td>1101</td>\n",
       "      <td>1106</td>\n",
       "    </tr>\n",
       "  </tbody>\n",
       "</table>\n",
       "</div>"
      ],
      "text/plain": [
       "               ID  Pred  Season  TeamIdA  TeamIdB\n",
       "0  2023_1101_1102   0.5    2023     1101     1102\n",
       "1  2023_1101_1103   0.5    2023     1101     1103\n",
       "2  2023_1101_1104   0.5    2023     1101     1104\n",
       "3  2023_1101_1105   0.5    2023     1101     1105\n",
       "4  2023_1101_1106   0.5    2023     1101     1106"
      ]
     },
     "execution_count": 37,
     "metadata": {},
     "output_type": "execute_result"
    }
   ],
   "source": [
    "df_test.head()"
   ]
  },
  {
   "cell_type": "markdown",
   "id": "44438220",
   "metadata": {
    "papermill": {
     "duration": 0.018509,
     "end_time": "2023-03-03T09:12:13.072271",
     "exception": false,
     "start_time": "2023-03-03T09:12:13.053762",
     "status": "completed"
    },
    "tags": []
   },
   "source": [
    "### Seeds\n",
    "- Seeds are not released yet, so I fill missing values with \"W01\""
   ]
  },
  {
   "cell_type": "code",
   "execution_count": 38,
   "id": "6d8948da",
   "metadata": {
    "execution": {
     "iopub.execute_input": "2023-03-03T09:12:13.111896Z",
     "iopub.status.busy": "2023-03-03T09:12:13.111417Z",
     "iopub.status.idle": "2023-03-03T09:12:13.175461Z",
     "shell.execute_reply": "2023-03-03T09:12:13.174291Z"
    },
    "papermill": {
     "duration": 0.087223,
     "end_time": "2023-03-03T09:12:13.178263",
     "exception": false,
     "start_time": "2023-03-03T09:12:13.091040",
     "status": "completed"
    },
    "tags": []
   },
   "outputs": [],
   "source": [
    "df_test = pd.merge(\n",
    "    df_test,\n",
    "    df_seeds,\n",
    "    how='left',\n",
    "    left_on=['Season', 'TeamIdA'],\n",
    "    right_on=['Season', 'TeamID']\n",
    ").drop('TeamID', axis=1).rename(columns={'Seed': 'SeedA'}).fillna('W01')"
   ]
  },
  {
   "cell_type": "code",
   "execution_count": 39,
   "id": "1e1ff4e5",
   "metadata": {
    "execution": {
     "iopub.execute_input": "2023-03-03T09:12:13.220050Z",
     "iopub.status.busy": "2023-03-03T09:12:13.219105Z",
     "iopub.status.idle": "2023-03-03T09:12:13.298454Z",
     "shell.execute_reply": "2023-03-03T09:12:13.297025Z"
    },
    "papermill": {
     "duration": 0.103344,
     "end_time": "2023-03-03T09:12:13.301069",
     "exception": false,
     "start_time": "2023-03-03T09:12:13.197725",
     "status": "completed"
    },
    "tags": []
   },
   "outputs": [],
   "source": [
    "df_test = pd.merge(\n",
    "    df_test, \n",
    "    df_seeds, \n",
    "    how='left', \n",
    "    left_on=['Season', 'TeamIdB'], \n",
    "    right_on=['Season', 'TeamID']\n",
    ").drop('TeamID', axis=1).rename(columns={'Seed': 'SeedB'}).fillna('W01')"
   ]
  },
  {
   "cell_type": "code",
   "execution_count": 40,
   "id": "61e0c164",
   "metadata": {
    "execution": {
     "iopub.execute_input": "2023-03-03T09:12:13.340212Z",
     "iopub.status.busy": "2023-03-03T09:12:13.339784Z",
     "iopub.status.idle": "2023-03-03T09:12:13.848530Z",
     "shell.execute_reply": "2023-03-03T09:12:13.847111Z"
    },
    "papermill": {
     "duration": 0.531811,
     "end_time": "2023-03-03T09:12:13.851560",
     "exception": false,
     "start_time": "2023-03-03T09:12:13.319749",
     "status": "completed"
    },
    "tags": []
   },
   "outputs": [],
   "source": [
    "df_test['SeedA'] = df_test['SeedA'].apply(treat_seed)\n",
    "df_test['SeedB'] = df_test['SeedB'].apply(treat_seed)"
   ]
  },
  {
   "cell_type": "markdown",
   "id": "8390d0ef",
   "metadata": {
    "papermill": {
     "duration": 0.018327,
     "end_time": "2023-03-03T09:12:13.889023",
     "exception": false,
     "start_time": "2023-03-03T09:12:13.870696",
     "status": "completed"
    },
    "tags": []
   },
   "source": [
    "### Season Stats"
   ]
  },
  {
   "cell_type": "code",
   "execution_count": 41,
   "id": "db9717f9",
   "metadata": {
    "execution": {
     "iopub.execute_input": "2023-03-03T09:12:13.928316Z",
     "iopub.status.busy": "2023-03-03T09:12:13.927904Z",
     "iopub.status.idle": "2023-03-03T09:12:13.978156Z",
     "shell.execute_reply": "2023-03-03T09:12:13.976937Z"
    },
    "papermill": {
     "duration": 0.073386,
     "end_time": "2023-03-03T09:12:13.980982",
     "exception": false,
     "start_time": "2023-03-03T09:12:13.907596",
     "status": "completed"
    },
    "tags": []
   },
   "outputs": [],
   "source": [
    "df_test = pd.merge(\n",
    "    df_test,\n",
    "    df_features_season,\n",
    "    how='left',\n",
    "    left_on=['Season', 'TeamIdA'],\n",
    "    right_on=['Season', 'TeamID']\n",
    ").rename(columns={\n",
    "    'NumWins': 'NumWinsA',\n",
    "    'NumLosses': 'NumLossesA',\n",
    "    'GapWins': 'GapWinsA',\n",
    "    'GapLosses': 'GapLossesA',\n",
    "    'WinRatio': 'WinRatioA',\n",
    "    'GapAvg': 'GapAvgA',\n",
    "}).drop(columns='TeamID', axis=1)"
   ]
  },
  {
   "cell_type": "code",
   "execution_count": 42,
   "id": "a3d520cf",
   "metadata": {
    "execution": {
     "iopub.execute_input": "2023-03-03T09:12:14.020270Z",
     "iopub.status.busy": "2023-03-03T09:12:14.019821Z",
     "iopub.status.idle": "2023-03-03T09:12:14.073100Z",
     "shell.execute_reply": "2023-03-03T09:12:14.071773Z"
    },
    "papermill": {
     "duration": 0.076322,
     "end_time": "2023-03-03T09:12:14.076033",
     "exception": false,
     "start_time": "2023-03-03T09:12:13.999711",
     "status": "completed"
    },
    "tags": []
   },
   "outputs": [],
   "source": [
    "df_test = pd.merge(\n",
    "    df_test,\n",
    "    df_features_season,\n",
    "    how='left',\n",
    "    left_on=['Season', 'TeamIdB'],\n",
    "    right_on=['Season', 'TeamID']\n",
    ").rename(columns={\n",
    "    'NumWins': 'NumWinsB',\n",
    "    'NumLosses': 'NumLossesB',\n",
    "    'GapWins': 'GapWinsB',\n",
    "    'GapLosses': 'GapLossesB',\n",
    "    'WinRatio': 'WinRatioB',\n",
    "    'GapAvg': 'GapAvgB',\n",
    "}).drop(columns='TeamID', axis=1)"
   ]
  },
  {
   "cell_type": "markdown",
   "id": "42409671",
   "metadata": {
    "papermill": {
     "duration": 0.018163,
     "end_time": "2023-03-03T09:12:14.112954",
     "exception": false,
     "start_time": "2023-03-03T09:12:14.094791",
     "status": "completed"
    },
    "tags": []
   },
   "source": [
    "### Ratings"
   ]
  },
  {
   "cell_type": "code",
   "execution_count": 43,
   "id": "0dbc895f",
   "metadata": {
    "execution": {
     "iopub.execute_input": "2023-03-03T09:12:14.152672Z",
     "iopub.status.busy": "2023-03-03T09:12:14.151938Z",
     "iopub.status.idle": "2023-03-03T09:12:14.157220Z",
     "shell.execute_reply": "2023-03-03T09:12:14.155935Z"
    },
    "papermill": {
     "duration": 0.028035,
     "end_time": "2023-03-03T09:12:14.159798",
     "exception": false,
     "start_time": "2023-03-03T09:12:14.131763",
     "status": "completed"
    },
    "tags": []
   },
   "outputs": [],
   "source": [
    "# df_test = pd.merge(\n",
    "#     df_test,\n",
    "#     df_538,\n",
    "#     how='left',\n",
    "#     left_on=['Season', 'TeamIdA'],\n",
    "#     right_on=['Season', 'TeamID']\n",
    "# ).drop('TeamID', axis=1).rename(columns={'538rating': '538ratingA'})"
   ]
  },
  {
   "cell_type": "code",
   "execution_count": 44,
   "id": "83eb5c13",
   "metadata": {
    "execution": {
     "iopub.execute_input": "2023-03-03T09:12:14.200008Z",
     "iopub.status.busy": "2023-03-03T09:12:14.199579Z",
     "iopub.status.idle": "2023-03-03T09:12:14.204489Z",
     "shell.execute_reply": "2023-03-03T09:12:14.203223Z"
    },
    "papermill": {
     "duration": 0.028036,
     "end_time": "2023-03-03T09:12:14.207033",
     "exception": false,
     "start_time": "2023-03-03T09:12:14.178997",
     "status": "completed"
    },
    "tags": []
   },
   "outputs": [],
   "source": [
    "# df_test = pd.merge(\n",
    "#     df_test,\n",
    "#     df_538,\n",
    "#     how='left',\n",
    "#     left_on=['Season', 'TeamIdB'],\n",
    "#     right_on=['Season', 'TeamID']\n",
    "# ).drop('TeamID', axis=1).rename(columns={'538rating': '538ratingB'})"
   ]
  },
  {
   "cell_type": "markdown",
   "id": "34bb45e4",
   "metadata": {
    "papermill": {
     "duration": 0.018444,
     "end_time": "2023-03-03T09:12:14.244509",
     "exception": false,
     "start_time": "2023-03-03T09:12:14.226065",
     "status": "completed"
    },
    "tags": []
   },
   "source": [
    "### Differences"
   ]
  },
  {
   "cell_type": "code",
   "execution_count": 45,
   "id": "7f5795d8",
   "metadata": {
    "execution": {
     "iopub.execute_input": "2023-03-03T09:12:14.283585Z",
     "iopub.status.busy": "2023-03-03T09:12:14.283169Z",
     "iopub.status.idle": "2023-03-03T09:12:14.292633Z",
     "shell.execute_reply": "2023-03-03T09:12:14.291566Z"
    },
    "papermill": {
     "duration": 0.032224,
     "end_time": "2023-03-03T09:12:14.295139",
     "exception": false,
     "start_time": "2023-03-03T09:12:14.262915",
     "status": "completed"
    },
    "tags": []
   },
   "outputs": [],
   "source": [
    "for col in cols_to_diff:\n",
    "    df_test[col + 'Diff'] = df_test[col + 'A'] - df_test[col + 'B']"
   ]
  },
  {
   "cell_type": "markdown",
   "id": "7f187e0b",
   "metadata": {
    "papermill": {
     "duration": 0.018115,
     "end_time": "2023-03-03T09:12:14.332073",
     "exception": false,
     "start_time": "2023-03-03T09:12:14.313958",
     "status": "completed"
    },
    "tags": []
   },
   "source": [
    "## Target"
   ]
  },
  {
   "cell_type": "code",
   "execution_count": 46,
   "id": "98b7fcb9",
   "metadata": {
    "execution": {
     "iopub.execute_input": "2023-03-03T09:12:14.371523Z",
     "iopub.status.busy": "2023-03-03T09:12:14.370259Z",
     "iopub.status.idle": "2023-03-03T09:12:14.378572Z",
     "shell.execute_reply": "2023-03-03T09:12:14.377485Z"
    },
    "papermill": {
     "duration": 0.030337,
     "end_time": "2023-03-03T09:12:14.380927",
     "exception": false,
     "start_time": "2023-03-03T09:12:14.350590",
     "status": "completed"
    },
    "tags": []
   },
   "outputs": [],
   "source": [
    "df['ScoreDiff'] = df['ScoreA'] - df['ScoreB']\n",
    "df['WinA'] = (df['ScoreDiff'] > 0).astype(int)"
   ]
  },
  {
   "cell_type": "markdown",
   "id": "3fcfdc45",
   "metadata": {
    "papermill": {
     "duration": 0.019176,
     "end_time": "2023-03-03T09:12:14.418729",
     "exception": false,
     "start_time": "2023-03-03T09:12:14.399553",
     "status": "completed"
    },
    "tags": []
   },
   "source": [
    "# Modeling"
   ]
  },
  {
   "cell_type": "code",
   "execution_count": 47,
   "id": "552a89ce",
   "metadata": {
    "execution": {
     "iopub.execute_input": "2023-03-03T09:12:14.457563Z",
     "iopub.status.busy": "2023-03-03T09:12:14.457113Z",
     "iopub.status.idle": "2023-03-03T09:12:14.462822Z",
     "shell.execute_reply": "2023-03-03T09:12:14.461338Z"
    },
    "papermill": {
     "duration": 0.028053,
     "end_time": "2023-03-03T09:12:14.465429",
     "exception": false,
     "start_time": "2023-03-03T09:12:14.437376",
     "status": "completed"
    },
    "tags": []
   },
   "outputs": [],
   "source": [
    "features = [\n",
    "    \"SeedA\", \"SeedB\", 'WinRatioA', 'GapAvgA', 'WinRatioB', 'GapAvgB', 'SeedDiff', 'WinRatioDiff', 'GapAvgDiff'\n",
    "]"
   ]
  },
  {
   "cell_type": "code",
   "execution_count": 48,
   "id": "893f7f97",
   "metadata": {
    "execution": {
     "iopub.execute_input": "2023-03-03T09:12:14.504763Z",
     "iopub.status.busy": "2023-03-03T09:12:14.504323Z",
     "iopub.status.idle": "2023-03-03T09:12:14.509642Z",
     "shell.execute_reply": "2023-03-03T09:12:14.508446Z"
    },
    "papermill": {
     "duration": 0.027735,
     "end_time": "2023-03-03T09:12:14.511954",
     "exception": false,
     "start_time": "2023-03-03T09:12:14.484219",
     "status": "completed"
    },
    "tags": []
   },
   "outputs": [],
   "source": [
    "# features = [\n",
    "#     'SeedDiff',\n",
    "# #     '538ratingDiff',\n",
    "#     'WinRatioDiff', \n",
    "#     'GapAvgDiff', \n",
    "# ]"
   ]
  },
  {
   "cell_type": "code",
   "execution_count": 49,
   "id": "ecef763e",
   "metadata": {
    "execution": {
     "iopub.execute_input": "2023-03-03T09:12:14.550953Z",
     "iopub.status.busy": "2023-03-03T09:12:14.550525Z",
     "iopub.status.idle": "2023-03-03T09:12:14.558361Z",
     "shell.execute_reply": "2023-03-03T09:12:14.557112Z"
    },
    "papermill": {
     "duration": 0.030021,
     "end_time": "2023-03-03T09:12:14.560718",
     "exception": false,
     "start_time": "2023-03-03T09:12:14.530697",
     "status": "completed"
    },
    "tags": []
   },
   "outputs": [],
   "source": [
    "def rescale(features, df_train, df_val, df_test=None):\n",
    "    min_ = df_train[features].min()\n",
    "    max_ = df_train[features].max()\n",
    "    \n",
    "    df_train[features] = (df_train[features] - min_) / (max_ - min_)\n",
    "    df_val[features] = (df_val[features] - min_) / (max_ - min_)\n",
    "    \n",
    "    if df_test is not None:\n",
    "        df_test[features] = (df_test[features] - min_) / (max_ - min_)\n",
    "        \n",
    "    return df_train, df_val, df_test"
   ]
  },
  {
   "cell_type": "markdown",
   "id": "83d86ecc",
   "metadata": {
    "papermill": {
     "duration": 0.019272,
     "end_time": "2023-03-03T09:12:14.599390",
     "exception": false,
     "start_time": "2023-03-03T09:12:14.580118",
     "status": "completed"
    },
    "tags": []
   },
   "source": [
    "### Cross Validation\n",
    "- Validate on season `n`, for `n` in the 3 last seasons. \n",
    "- Train on earlier seasons. First available season is 2016 because of the FiveThirtyEight ratings.\n",
    "- Pipeline support classification (predict the team that wins) and regression (predict the score gap), but classification worked better on CV."
   ]
  },
  {
   "cell_type": "code",
   "execution_count": 50,
   "id": "cc8b83d1",
   "metadata": {
    "execution": {
     "iopub.execute_input": "2023-03-03T09:12:14.638789Z",
     "iopub.status.busy": "2023-03-03T09:12:14.638395Z",
     "iopub.status.idle": "2023-03-03T09:12:14.655013Z",
     "shell.execute_reply": "2023-03-03T09:12:14.654073Z"
    },
    "papermill": {
     "duration": 0.039164,
     "end_time": "2023-03-03T09:12:14.657260",
     "exception": false,
     "start_time": "2023-03-03T09:12:14.618096",
     "status": "completed"
    },
    "tags": []
   },
   "outputs": [],
   "source": [
    "def kfold(df, df_test_=None, plot=False, verbose=0, mode=\"reg\"):\n",
    "    seasons = df['Season'].unique()\n",
    "    cvs = []\n",
    "    pred_tests = []\n",
    "    target = \"ScoreDiff\" if mode == \"reg\" else \"WinA\"\n",
    "    \n",
    "    for season in seasons[1:]:\n",
    "        if verbose:\n",
    "            print(f'\\nValidating on season {season}')\n",
    "        \n",
    "        df_train = df[df['Season'] < season].reset_index(drop=True).copy()\n",
    "        df_val = df[df['Season'] == season].reset_index(drop=True).copy()\n",
    "        df_test = df_test_.copy()\n",
    "        \n",
    "        df_train, df_val, df_test = rescale(features, df_train, df_val, df_test)\n",
    "        \n",
    "        if mode == \"reg\":\n",
    "#             model = LinearRegression()\n",
    "            model = ElasticNet(alpha=1, l1_ratio=0.5)\n",
    "        else:\n",
    "            model = LogisticRegression(C=1)\n",
    "\n",
    "        model.fit(df_train[features], df_train[target])\n",
    "        \n",
    "        if mode == \"reg\":\n",
    "            pred = model.predict(df_val[features])\n",
    "        else:\n",
    "            pred = model.predict_proba(df_val[features])[:, 1]\n",
    "        \n",
    "        if df_test is not None:\n",
    "            if mode == \"reg\":\n",
    "                pred_test = model.predict(df_test[features])\n",
    "                \n",
    "#                 print( pred_test.max() - pred_test.min())\n",
    "                pred_test = (pred_test - pred_test.min()) / (pred_test.max() - pred_test.min())\n",
    "            else:\n",
    "                pred_test = model.predict_proba(df_test[features])[:, 1]\n",
    "                \n",
    "            pred_tests.append(pred_test)\n",
    "            \n",
    "        if plot:\n",
    "            plt.figure(figsize=(15, 6))\n",
    "            plt.subplot(1, 2, 1)\n",
    "            plt.scatter(pred, df_val['ScoreDiff'].values, s=5)\n",
    "            plt.title('Prediction vs Score Diff')\n",
    "            plt.grid(True)\n",
    "            plt.subplot(1, 2, 2)\n",
    "            sns.histplot(pred, bins=20)\n",
    "            plt.title('Predictions probability repartition')\n",
    "            plt.show()\n",
    "        \n",
    "        pred = (pred - pred.min()) / (pred.max() - pred.min())\n",
    "        pred = np.clip(pred, 0, 1)\n",
    "\n",
    "        score = ((df_val['WinA'].values - pred) ** 2).mean()\n",
    "        cvs.append(score)\n",
    "\n",
    "        if verbose:\n",
    "            print(f'\\t -> Scored {score:.3f}')\n",
    "        \n",
    "    print(f'\\n Local CV is {np.mean(cvs):.3f}')\n",
    "    \n",
    "    return pred_tests"
   ]
  },
  {
   "cell_type": "code",
   "execution_count": 51,
   "id": "0cbb4cb2",
   "metadata": {
    "execution": {
     "iopub.execute_input": "2023-03-03T09:12:14.697926Z",
     "iopub.status.busy": "2023-03-03T09:12:14.697521Z",
     "iopub.status.idle": "2023-03-03T09:12:15.157988Z",
     "shell.execute_reply": "2023-03-03T09:12:15.156722Z"
    },
    "papermill": {
     "duration": 0.485215,
     "end_time": "2023-03-03T09:12:15.161706",
     "exception": false,
     "start_time": "2023-03-03T09:12:14.676491",
     "status": "completed"
    },
    "tags": []
   },
   "outputs": [
    {
     "name": "stdout",
     "output_type": "stream",
     "text": [
      "\n",
      "Validating on season 2017\n",
      "\t -> Scored 0.164\n",
      "\n",
      "Validating on season 2018\n",
      "\t -> Scored 0.188\n",
      "\n",
      "Validating on season 2019\n",
      "\t -> Scored 0.154\n",
      "\n",
      "Validating on season 2021\n",
      "\t -> Scored 0.190\n",
      "\n",
      "Validating on season 2022\n",
      "\t -> Scored 0.197\n",
      "\n",
      " Local CV is 0.179\n"
     ]
    }
   ],
   "source": [
    "pred_tests = kfold(df, df_test, plot=False, verbose=1, mode=\"cls\")"
   ]
  },
  {
   "cell_type": "markdown",
   "id": "16e5df74",
   "metadata": {
    "papermill": {
     "duration": 0.031862,
     "end_time": "2023-03-03T09:12:15.224441",
     "exception": false,
     "start_time": "2023-03-03T09:12:15.192579",
     "status": "completed"
    },
    "tags": []
   },
   "source": [
    "## Submission"
   ]
  },
  {
   "cell_type": "code",
   "execution_count": 52,
   "id": "e52f9fd8",
   "metadata": {
    "execution": {
     "iopub.execute_input": "2023-03-03T09:12:15.283081Z",
     "iopub.status.busy": "2023-03-03T09:12:15.282684Z",
     "iopub.status.idle": "2023-03-03T09:12:16.173800Z",
     "shell.execute_reply": "2023-03-03T09:12:16.172249Z"
    },
    "papermill": {
     "duration": 0.918156,
     "end_time": "2023-03-03T09:12:16.176570",
     "exception": false,
     "start_time": "2023-03-03T09:12:15.258414",
     "status": "completed"
    },
    "tags": []
   },
   "outputs": [
    {
     "data": {
      "image/png": "[encoded data removed]",
      "text/plain": [
       "<Figure size 500x500 with 1 Axes>"
      ]
     },
     "metadata": {},
     "output_type": "display_data"
    }
   ],
   "source": [
    "pred_test = np.mean(pred_tests, 0)\n",
    "df_test['pred'] = pred_test\n",
    "\n",
    "_ = sns.displot(pred_test)"
   ]
  },
  {
   "cell_type": "code",
   "execution_count": 53,
   "id": "391e0b58",
   "metadata": {
    "execution": {
     "iopub.execute_input": "2023-03-03T09:12:16.216595Z",
     "iopub.status.busy": "2023-03-03T09:12:16.216097Z",
     "iopub.status.idle": "2023-03-03T09:12:16.551196Z",
     "shell.execute_reply": "2023-03-03T09:12:16.550113Z"
    },
    "papermill": {
     "duration": 0.358119,
     "end_time": "2023-03-03T09:12:16.553955",
     "exception": false,
     "start_time": "2023-03-03T09:12:16.195836",
     "status": "completed"
    },
    "tags": []
   },
   "outputs": [],
   "source": [
    "final_sub = df_test[['ID', 'pred']].copy()\n",
    "final_sub.to_csv('submission.csv', index=False)"
   ]
  },
  {
   "cell_type": "code",
   "execution_count": 54,
   "id": "8ad6d603",
   "metadata": {
    "execution": {
     "iopub.execute_input": "2023-03-03T09:12:16.593378Z",
     "iopub.status.busy": "2023-03-03T09:12:16.592940Z",
     "iopub.status.idle": "2023-03-03T09:12:16.608034Z",
     "shell.execute_reply": "2023-03-03T09:12:16.606609Z"
    },
    "papermill": {
     "duration": 0.037767,
     "end_time": "2023-03-03T09:12:16.610531",
     "exception": false,
     "start_time": "2023-03-03T09:12:16.572764",
     "status": "completed"
    },
    "tags": []
   },
   "outputs": [
    {
     "data": {
      "text/html": [
       "<div>\n",
       "<style scoped>\n",
       "    .dataframe tbody tr th:only-of-type {\n",
       "        vertical-align: middle;\n",
       "    }\n",
       "\n",
       "    .dataframe tbody tr th {\n",
       "        vertical-align: top;\n",
       "    }\n",
       "\n",
       "    .dataframe thead th {\n",
       "        text-align: right;\n",
       "    }\n",
       "</style>\n",
       "<table border=\"1\" class=\"dataframe\">\n",
       "  <thead>\n",
       "    <tr style=\"text-align: right;\">\n",
       "      <th></th>\n",
       "      <th>ID</th>\n",
       "      <th>pred</th>\n",
       "    </tr>\n",
       "  </thead>\n",
       "  <tbody>\n",
       "    <tr>\n",
       "      <th>0</th>\n",
       "      <td>2023_1101_1102</td>\n",
       "      <td>0.477936</td>\n",
       "    </tr>\n",
       "    <tr>\n",
       "      <th>1</th>\n",
       "      <td>2023_1101_1103</td>\n",
       "      <td>0.449092</td>\n",
       "    </tr>\n",
       "    <tr>\n",
       "      <th>2</th>\n",
       "      <td>2023_1101_1104</td>\n",
       "      <td>0.378438</td>\n",
       "    </tr>\n",
       "    <tr>\n",
       "      <th>3</th>\n",
       "      <td>2023_1101_1105</td>\n",
       "      <td>0.497743</td>\n",
       "    </tr>\n",
       "    <tr>\n",
       "      <th>4</th>\n",
       "      <td>2023_1101_1106</td>\n",
       "      <td>0.551261</td>\n",
       "    </tr>\n",
       "    <tr>\n",
       "      <th>...</th>\n",
       "      <td>...</td>\n",
       "      <td>...</td>\n",
       "    </tr>\n",
       "    <tr>\n",
       "      <th>130678</th>\n",
       "      <td>2023_3474_3476</td>\n",
       "      <td>0.432406</td>\n",
       "    </tr>\n",
       "    <tr>\n",
       "      <th>130679</th>\n",
       "      <td>2023_3474_3477</td>\n",
       "      <td>0.442591</td>\n",
       "    </tr>\n",
       "    <tr>\n",
       "      <th>130680</th>\n",
       "      <td>2023_3475_3476</td>\n",
       "      <td>0.532760</td>\n",
       "    </tr>\n",
       "    <tr>\n",
       "      <th>130681</th>\n",
       "      <td>2023_3475_3477</td>\n",
       "      <td>0.543008</td>\n",
       "    </tr>\n",
       "    <tr>\n",
       "      <th>130682</th>\n",
       "      <td>2023_3476_3477</td>\n",
       "      <td>0.510337</td>\n",
       "    </tr>\n",
       "  </tbody>\n",
       "</table>\n",
       "<p>130683 rows × 2 columns</p>\n",
       "</div>"
      ],
      "text/plain": [
       "                    ID      pred\n",
       "0       2023_1101_1102  0.477936\n",
       "1       2023_1101_1103  0.449092\n",
       "2       2023_1101_1104  0.378438\n",
       "3       2023_1101_1105  0.497743\n",
       "4       2023_1101_1106  0.551261\n",
       "...                ...       ...\n",
       "130678  2023_3474_3476  0.432406\n",
       "130679  2023_3474_3477  0.442591\n",
       "130680  2023_3475_3476  0.532760\n",
       "130681  2023_3475_3477  0.543008\n",
       "130682  2023_3476_3477  0.510337\n",
       "\n",
       "[130683 rows x 2 columns]"
      ]
     },
     "execution_count": 54,
     "metadata": {},
     "output_type": "execute_result"
    }
   ],
   "source": [
    "final_sub"
   ]
  },
  {
   "cell_type": "markdown",
   "id": "dafe39f0",
   "metadata": {
    "papermill": {
     "duration": 0.019015,
     "end_time": "2023-03-03T09:12:16.649351",
     "exception": false,
     "start_time": "2023-03-03T09:12:16.630336",
     "status": "completed"
    },
    "tags": []
   },
   "source": []
  },
  {
   "cell_type": "code",
   "execution_count": 55,
   "id": "8a41a82f",
   "metadata": {
    "execution": {
     "iopub.execute_input": "2023-03-03T09:12:16.690653Z",
     "iopub.status.busy": "2023-03-03T09:12:16.690243Z",
     "iopub.status.idle": "2023-03-03T09:12:16.701488Z",
     "shell.execute_reply": "2023-03-03T09:12:16.700380Z"
    },
    "papermill": {
     "duration": 0.034245,
     "end_time": "2023-03-03T09:12:16.703744",
     "exception": false,
     "start_time": "2023-03-03T09:12:16.669499",
     "status": "completed"
    },
    "tags": []
   },
   "outputs": [
    {
     "data": {
      "text/html": [
       "<div>\n",
       "<style scoped>\n",
       "    .dataframe tbody tr th:only-of-type {\n",
       "        vertical-align: middle;\n",
       "    }\n",
       "\n",
       "    .dataframe tbody tr th {\n",
       "        vertical-align: top;\n",
       "    }\n",
       "\n",
       "    .dataframe thead th {\n",
       "        text-align: right;\n",
       "    }\n",
       "</style>\n",
       "<table border=\"1\" class=\"dataframe\">\n",
       "  <thead>\n",
       "    <tr style=\"text-align: right;\">\n",
       "      <th></th>\n",
       "      <th>ID</th>\n",
       "      <th>pred</th>\n",
       "    </tr>\n",
       "  </thead>\n",
       "  <tbody>\n",
       "    <tr>\n",
       "      <th>0</th>\n",
       "      <td>2023_1101_1102</td>\n",
       "      <td>0.477936</td>\n",
       "    </tr>\n",
       "    <tr>\n",
       "      <th>1</th>\n",
       "      <td>2023_1101_1103</td>\n",
       "      <td>0.449092</td>\n",
       "    </tr>\n",
       "    <tr>\n",
       "      <th>2</th>\n",
       "      <td>2023_1101_1104</td>\n",
       "      <td>0.378438</td>\n",
       "    </tr>\n",
       "    <tr>\n",
       "      <th>3</th>\n",
       "      <td>2023_1101_1105</td>\n",
       "      <td>0.497743</td>\n",
       "    </tr>\n",
       "    <tr>\n",
       "      <th>4</th>\n",
       "      <td>2023_1101_1106</td>\n",
       "      <td>0.551261</td>\n",
       "    </tr>\n",
       "  </tbody>\n",
       "</table>\n",
       "</div>"
      ],
      "text/plain": [
       "               ID      pred\n",
       "0  2023_1101_1102  0.477936\n",
       "1  2023_1101_1103  0.449092\n",
       "2  2023_1101_1104  0.378438\n",
       "3  2023_1101_1105  0.497743\n",
       "4  2023_1101_1106  0.551261"
      ]
     },
     "execution_count": 55,
     "metadata": {},
     "output_type": "execute_result"
    }
   ],
   "source": [
    "final_sub.head()"
   ]
  },
  {
   "cell_type": "markdown",
   "id": "35a13f9e",
   "metadata": {
    "papermill": {
     "duration": 0.019232,
     "end_time": "2023-03-03T09:12:16.742743",
     "exception": false,
     "start_time": "2023-03-03T09:12:16.723511",
     "status": "completed"
    },
    "tags": []
   },
   "source": [
    "Done ! "
   ]
  }
 ],
 "metadata": {
  "kernelspec": {
   "display_name": "Python 3",
   "language": "python",
   "name": "python3"
  },
  "language_info": {
   "codemirror_mode": {
    "name": "ipython",
    "version": 3
   },
   "file_extension": ".py",
   "mimetype": "text/x-python",
   "name": "python",
   "nbconvert_exporter": "python",
   "pygments_lexer": "ipython3",
   "version": "3.7.12"
  },
  "papermill": {
   "default_parameters": {},
   "duration": 19.532003,
   "end_time": "2023-03-03T09:12:17.587039",
   "environment_variables": {},
   "exception": null,
   "input_path": "__notebook__.ipynb",
   "output_path": "__notebook__.ipynb",
   "parameters": {},
   "start_time": "2023-03-03T09:11:58.055036",
   "version": "2.3.4"
  }
 },
 "nbformat": 4,
 "nbformat_minor": 5
}
