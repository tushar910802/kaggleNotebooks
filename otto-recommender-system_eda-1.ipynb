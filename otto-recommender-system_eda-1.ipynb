{
 "cells": [
  {
   "cell_type": "code",
   "execution_count": 1,
   "id": "daebcb34-f18d-462a-bfdd-0a85cdd329a5",
   "metadata": {},
   "outputs": [],
   "source": [
    "import pandas as pd\n",
    "from pathlib import Path\n",
    "import os\n",
    "import random\n",
    "import numpy as np\n",
    "import json\n",
    "from datetime import timedelta\n",
    "from collections import Counter\n",
    "from tqdm.notebook import tqdm\n",
    "from heapq import nlargest\n",
    "\n",
    "import matplotlib.pyplot as plt\n",
    "import seaborn as sns\n",
    "sns.set_theme()\n",
    "\n",
    "import warnings\n",
    "warnings.filterwarnings('ignore')"
   ]
  },
  {
   "cell_type": "code",
   "execution_count": 2,
   "id": "6e599c06-b8c4-43ed-a4e1-4c59a4507d3f",
   "metadata": {},
   "outputs": [],
   "source": [
    "# DATA_PATH = Path('.')\n",
    "TRAIN_PATH = 'train.jsonl'\n",
    "TEST_PATH = 'test.jsonl'\n",
    "SAMPLE_SUB_PATH = Path('sample_submission.csv')"
   ]
  },
  {
   "cell_type": "code",
   "execution_count": 3,
   "id": "217e7d8d-e520-409e-aa79-bd6759fc8228",
   "metadata": {},
   "outputs": [
    {
     "name": "stdout",
     "output_type": "stream",
     "text": [
      "We have 12,899,779 lines in the training data\n"
     ]
    }
   ],
   "source": [
    "with open(TRAIN_PATH, 'r') as f:\n",
    "    print(f\"We have {len(f.readlines()):,} lines in the training data\")"
   ]
  },
  {
   "cell_type": "code",
   "execution_count": 4,
   "id": "213f9b12-b432-4d8e-a3fa-0877c1ef0501",
   "metadata": {},
   "outputs": [],
   "source": [
    "sample_size = 150000\n",
    "\n",
    "chunks = pd.read_json(TRAIN_PATH, lines=True, chunksize = sample_size)\n",
    "\n",
    "for c in chunks:\n",
    "    sample_train_df = c\n",
    "    break"
   ]
  },
  {
   "cell_type": "code",
   "execution_count": 5,
   "id": "b2b576cb-f064-4406-826b-8de3958793dd",
   "metadata": {},
   "outputs": [
    {
     "data": {
      "text/html": [
       "<div>\n",
       "<style scoped>\n",
       "    .dataframe tbody tr th:only-of-type {\n",
       "        vertical-align: middle;\n",
       "    }\n",
       "\n",
       "    .dataframe tbody tr th {\n",
       "        vertical-align: top;\n",
       "    }\n",
       "\n",
       "    .dataframe thead th {\n",
       "        text-align: right;\n",
       "    }\n",
       "</style>\n",
       "<table border=\"1\" class=\"dataframe\">\n",
       "  <thead>\n",
       "    <tr style=\"text-align: right;\">\n",
       "      <th></th>\n",
       "      <th>session</th>\n",
       "      <th>events</th>\n",
       "    </tr>\n",
       "  </thead>\n",
       "  <tbody>\n",
       "    <tr>\n",
       "      <th>0</th>\n",
       "      <td>0</td>\n",
       "      <td>[{'aid': 1517085, 'ts': 1659304800025, 'type':...</td>\n",
       "    </tr>\n",
       "    <tr>\n",
       "      <th>1</th>\n",
       "      <td>1</td>\n",
       "      <td>[{'aid': 424964, 'ts': 1659304800025, 'type': ...</td>\n",
       "    </tr>\n",
       "    <tr>\n",
       "      <th>2</th>\n",
       "      <td>2</td>\n",
       "      <td>[{'aid': 763743, 'ts': 1659304800038, 'type': ...</td>\n",
       "    </tr>\n",
       "    <tr>\n",
       "      <th>3</th>\n",
       "      <td>3</td>\n",
       "      <td>[{'aid': 1425967, 'ts': 1659304800095, 'type':...</td>\n",
       "    </tr>\n",
       "    <tr>\n",
       "      <th>4</th>\n",
       "      <td>4</td>\n",
       "      <td>[{'aid': 613619, 'ts': 1659304800119, 'type': ...</td>\n",
       "    </tr>\n",
       "    <tr>\n",
       "      <th>...</th>\n",
       "      <td>...</td>\n",
       "      <td>...</td>\n",
       "    </tr>\n",
       "    <tr>\n",
       "      <th>149995</th>\n",
       "      <td>149995</td>\n",
       "      <td>[{'aid': 443027, 'ts': 1659332465408, 'type': ...</td>\n",
       "    </tr>\n",
       "    <tr>\n",
       "      <th>149996</th>\n",
       "      <td>149996</td>\n",
       "      <td>[{'aid': 1849006, 'ts': 1659332465484, 'type':...</td>\n",
       "    </tr>\n",
       "    <tr>\n",
       "      <th>149997</th>\n",
       "      <td>149997</td>\n",
       "      <td>[{'aid': 135905, 'ts': 1659332465575, 'type': ...</td>\n",
       "    </tr>\n",
       "    <tr>\n",
       "      <th>149998</th>\n",
       "      <td>149998</td>\n",
       "      <td>[{'aid': 288928, 'ts': 1659332465804, 'type': ...</td>\n",
       "    </tr>\n",
       "    <tr>\n",
       "      <th>149999</th>\n",
       "      <td>149999</td>\n",
       "      <td>[{'aid': 1752139, 'ts': 1659332465811, 'type':...</td>\n",
       "    </tr>\n",
       "  </tbody>\n",
       "</table>\n",
       "<p>150000 rows × 2 columns</p>\n",
       "</div>"
      ],
      "text/plain": [
       "        session                                             events\n",
       "0             0  [{'aid': 1517085, 'ts': 1659304800025, 'type':...\n",
       "1             1  [{'aid': 424964, 'ts': 1659304800025, 'type': ...\n",
       "2             2  [{'aid': 763743, 'ts': 1659304800038, 'type': ...\n",
       "3             3  [{'aid': 1425967, 'ts': 1659304800095, 'type':...\n",
       "4             4  [{'aid': 613619, 'ts': 1659304800119, 'type': ...\n",
       "...         ...                                                ...\n",
       "149995   149995  [{'aid': 443027, 'ts': 1659332465408, 'type': ...\n",
       "149996   149996  [{'aid': 1849006, 'ts': 1659332465484, 'type':...\n",
       "149997   149997  [{'aid': 135905, 'ts': 1659332465575, 'type': ...\n",
       "149998   149998  [{'aid': 288928, 'ts': 1659332465804, 'type': ...\n",
       "149999   149999  [{'aid': 1752139, 'ts': 1659332465811, 'type':...\n",
       "\n",
       "[150000 rows x 2 columns]"
      ]
     },
     "execution_count": 5,
     "metadata": {},
     "output_type": "execute_result"
    }
   ],
   "source": [
    "sample_train_df"
   ]
  },
  {
   "cell_type": "code",
   "execution_count": 6,
   "id": "6301941c-e21c-4f0a-88ef-62420a735fa7",
   "metadata": {},
   "outputs": [
    {
     "data": {
      "text/html": [
       "<div>\n",
       "<style scoped>\n",
       "    .dataframe tbody tr th:only-of-type {\n",
       "        vertical-align: middle;\n",
       "    }\n",
       "\n",
       "    .dataframe tbody tr th {\n",
       "        vertical-align: top;\n",
       "    }\n",
       "\n",
       "    .dataframe thead th {\n",
       "        text-align: right;\n",
       "    }\n",
       "</style>\n",
       "<table border=\"1\" class=\"dataframe\">\n",
       "  <thead>\n",
       "    <tr style=\"text-align: right;\">\n",
       "      <th></th>\n",
       "      <th>events</th>\n",
       "    </tr>\n",
       "    <tr>\n",
       "      <th>session</th>\n",
       "      <th></th>\n",
       "    </tr>\n",
       "  </thead>\n",
       "  <tbody>\n",
       "    <tr>\n",
       "      <th>0</th>\n",
       "      <td>[{'aid': 1517085, 'ts': 1659304800025, 'type':...</td>\n",
       "    </tr>\n",
       "    <tr>\n",
       "      <th>1</th>\n",
       "      <td>[{'aid': 424964, 'ts': 1659304800025, 'type': ...</td>\n",
       "    </tr>\n",
       "    <tr>\n",
       "      <th>2</th>\n",
       "      <td>[{'aid': 763743, 'ts': 1659304800038, 'type': ...</td>\n",
       "    </tr>\n",
       "    <tr>\n",
       "      <th>3</th>\n",
       "      <td>[{'aid': 1425967, 'ts': 1659304800095, 'type':...</td>\n",
       "    </tr>\n",
       "    <tr>\n",
       "      <th>4</th>\n",
       "      <td>[{'aid': 613619, 'ts': 1659304800119, 'type': ...</td>\n",
       "    </tr>\n",
       "  </tbody>\n",
       "</table>\n",
       "</div>"
      ],
      "text/plain": [
       "                                                    events\n",
       "session                                                   \n",
       "0        [{'aid': 1517085, 'ts': 1659304800025, 'type':...\n",
       "1        [{'aid': 424964, 'ts': 1659304800025, 'type': ...\n",
       "2        [{'aid': 763743, 'ts': 1659304800038, 'type': ...\n",
       "3        [{'aid': 1425967, 'ts': 1659304800095, 'type':...\n",
       "4        [{'aid': 613619, 'ts': 1659304800119, 'type': ..."
      ]
     },
     "execution_count": 6,
     "metadata": {},
     "output_type": "execute_result"
    }
   ],
   "source": [
    "sample_train_df.set_index('session', drop=True, inplace=True)\n",
    "sample_train_df.head()"
   ]
  },
  {
   "cell_type": "code",
   "execution_count": 7,
   "id": "17971554-ffe2-4d4f-9e3e-10a2144b74f0",
   "metadata": {},
   "outputs": [
    {
     "name": "stdout",
     "output_type": "stream",
     "text": [
      "This session was 276 actions long \n",
      "\n",
      "The first action in the session: \n",
      " {'aid': 1517085, 'ts': 1659304800025, 'type': 'clicks'} \n",
      "\n",
      "The first session elapsed: 27 days, 13:09:43.682000 \n",
      "\n",
      "The first session contains the following frequency of actions: {'clicks': 255, 'carts': 17, 'orders': 4}\n"
     ]
    }
   ],
   "source": [
    "example_session = sample_train_df.iloc[0].item()\n",
    "print(f'This session was {len(example_session)} actions long \\n')\n",
    "print(f'The first action in the session: \\n {example_session[0]} \\n')\n",
    "\n",
    "# Time of session\n",
    "time_elapsed = example_session[-1][\"ts\"] - example_session[0][\"ts\"]\n",
    "# The timestamp is in milliseconds since 00:00:00 UTC on 1 January 1970\n",
    "print(f'The first session elapsed: {str(timedelta(milliseconds=time_elapsed))} \\n')\n",
    "\n",
    "# Count the frequency of actions within the session\n",
    "action_counts = {}\n",
    "for action in example_session:\n",
    "    action_counts[action['type']] = action_counts.get(action['type'], 0) + 1  \n",
    "print(f'The first session contains the following frequency of actions: {action_counts}')"
   ]
  },
  {
   "cell_type": "code",
   "execution_count": 8,
   "id": "2cc18db3-ac7b-4841-b9a2-dd9205fc3a2e",
   "metadata": {},
   "outputs": [
    {
     "data": {
      "application/vnd.jupyter.widget-view+json": {
       "model_id": "91d35de53e984aeb8368a0ce6d1c8c0a",
       "version_major": 2,
       "version_minor": 0
      },
      "text/plain": [
       "  0%|          | 0/150000 [00:00<?, ?it/s]"
      ]
     },
     "metadata": {},
     "output_type": "display_data"
    }
   ],
   "source": [
    "### Extract information from each session and add it to the df ###\n",
    "\n",
    "action_counts_list, article_id_counts_list, session_length_time_list, session_length_action_list = ([] for i in range(4))\n",
    "overall_action_counts = {}\n",
    "overall_article_id_counts = {}\n",
    "\n",
    "for i, row in tqdm(sample_train_df.iterrows(), total=len(sample_train_df)):\n",
    "    \n",
    "    actions = row['events']\n",
    "    \n",
    "    # Get the frequency of actions and article_ids\n",
    "    action_counts = {}\n",
    "    article_id_counts = {}\n",
    "    for action in actions:\n",
    "        action_counts[action['type']] = action_counts.get(action['type'], 0) + 1\n",
    "        article_id_counts[action['aid']] = article_id_counts.get(action['aid'], 0) + 1\n",
    "        overall_action_counts[action['type']] = overall_action_counts.get(action['type'], 0) + 1\n",
    "        overall_article_id_counts[action['aid']] = overall_article_id_counts.get(action['aid'], 0) + 1\n",
    "        \n",
    "    # Get the length of the session\n",
    "    session_length_time = actions[-1]['ts'] - actions[0]['ts']\n",
    "    \n",
    "    # Add to list\n",
    "    action_counts_list.append(action_counts)\n",
    "    article_id_counts_list.append(article_id_counts)\n",
    "    session_length_time_list.append(session_length_time)\n",
    "    session_length_action_list.append(len(actions))\n",
    "    \n",
    "sample_train_df['action_counts'] = action_counts_list\n",
    "sample_train_df['article_id_counts'] = article_id_counts_list\n",
    "sample_train_df['session_length_unix'] = session_length_time_list\n",
    "sample_train_df['session_length_hours'] = sample_train_df['session_length_unix']*2.77778e-7  # Convert to hours\n",
    "sample_train_df['session_length_action'] = session_length_action_list"
   ]
  },
  {
   "cell_type": "code",
   "execution_count": 9,
   "id": "7eeeedcd-c684-44e8-a1ed-c31c0c9ef3da",
   "metadata": {},
   "outputs": [
    {
     "data": {
      "image/png": "[encoded data removed]",
      "text/plain": [
       "<Figure size 576x432 with 1 Axes>"
      ]
     },
     "metadata": {
      "needs_background": "light"
     },
     "output_type": "display_data"
    }
   ],
   "source": [
    "### Actions ###\n",
    "\n",
    "total_actions = sum(overall_action_counts.values())\n",
    "\n",
    "plt.figure(figsize=(8,6))\n",
    "sns.barplot(x=list(overall_action_counts.keys()), y=[i/total_actions for i in overall_action_counts.values()]);\n",
    "plt.title(f'Action frequency', fontsize=12)\n",
    "plt.ylabel('Count', fontsize=12)\n",
    "plt.xlabel('Category', fontsize=12)\n",
    "plt.show()"
   ]
  },
  {
   "cell_type": "code",
   "execution_count": 10,
   "id": "8957ee60-1965-4def-a70e-929deb1d8066",
   "metadata": {},
   "outputs": [
    {
     "data": {
      "image/png": "[encoded data removed]",
      "text/plain": [
       "<Figure size 1728x720 with 2 Axes>"
      ]
     },
     "metadata": {
      "needs_background": "light"
     },
     "output_type": "display_data"
    }
   ],
   "source": [
    "fig, ax = plt.subplots(1,2, figsize=(24, 10))\n",
    "\n",
    "p = sns.distplot(sample_train_df['session_length_action'], color=\"y\", bins= 70, ax=ax[0], kde=False)\n",
    "p.set_xlabel(\"Number of actions\", fontsize = 16)\n",
    "p.set_ylabel(\"Density\", fontsize = 16)\n",
    "p.set_title(\"Distribution of the number of actions taken in each session\", fontsize = 14)\n",
    "p.axvline(sample_train_df['session_length_action'].mean(), color='r', linestyle='--', label=\"Mean\")\n",
    "\n",
    "p = sns.distplot(sample_train_df['session_length_hours'], color=\"b\", bins= 70, ax=ax[1], kde=False)\n",
    "p.set_xlabel(\"Hours\", fontsize = 16)\n",
    "p.set_ylabel(\"Density\", fontsize = 16)\n",
    "p.set_title(\"Length of each session\", fontsize = 16);"
   ]
  },
  {
   "cell_type": "code",
   "execution_count": 11,
   "id": "8d72637c-3463-4059-8211-9ef13fb0bab0",
   "metadata": {},
   "outputs": [
    {
     "name": "stdout",
     "output_type": "stream",
     "text": [
      "34.8% of the sessions had less than 10 actions\n"
     ]
    }
   ],
   "source": [
    "print(f'{round(len(sample_train_df[sample_train_df[\"session_length_action\"]<10])/len(sample_train_df),3)*100}% of the sessions had less than 10 actions')"
   ]
  },
  {
   "cell_type": "code",
   "execution_count": 12,
   "id": "b2433218-ab47-4d5a-b35f-67a5020c442e",
   "metadata": {},
   "outputs": [
    {
     "data": {
      "image/png": "[encoded data removed]",
      "text/plain": [
       "<Figure size 576x432 with 1 Axes>"
      ]
     },
     "metadata": {
      "needs_background": "light"
     },
     "output_type": "display_data"
    }
   ],
   "source": [
    "article_id_freq = list(overall_article_id_counts.values())\n",
    "cut_off = [i for i in article_id_freq if i<30]\n",
    "\n",
    "plt.figure(figsize=(8,6))\n",
    "sns.distplot(cut_off, bins=30, kde=False);\n",
    "plt.title(f'Article ID frequency', fontsize=12)\n",
    "plt.ylabel('Count', fontsize=12)\n",
    "plt.xlabel('Article', fontsize=12);"
   ]
  },
  {
   "cell_type": "code",
   "execution_count": 13,
   "id": "907ab77c-5b6a-4ac2-b3e1-e1d6005ec980",
   "metadata": {},
   "outputs": [
    {
     "name": "stdout",
     "output_type": "stream",
     "text": [
      "Frequency of most common articles: [3877, 4259, 4323, 4503, 5000] \n",
      "\n",
      "IDs for those common articles: [29735, 1603001, 832192, 1733943, 108125]\n"
     ]
    }
   ],
   "source": [
    "### Look at the most interacted with articles ###\n",
    "print(f'Frequency of most common articles: {sorted(list(overall_article_id_counts.values()))[-5:]} \\n')\n",
    "res = nlargest(5, overall_article_id_counts, key = overall_article_id_counts.get)\n",
    "print(f'IDs for those common articles: {res}')"
   ]
  },
  {
   "cell_type": "code",
   "execution_count": 14,
   "id": "f8944226-68bc-4a50-8eea-b9debf8b4708",
   "metadata": {},
   "outputs": [
    {
     "name": "stdout",
     "output_type": "stream",
     "text": [
      "We have 1,671,803 lines in the test data\n"
     ]
    }
   ],
   "source": [
    "with open(TEST_PATH, 'r') as f:\n",
    "    print(f\"We have {len(f.readlines()):,} lines in the test data\")"
   ]
  },
  {
   "cell_type": "code",
   "execution_count": 15,
   "id": "50ad6730-bc7e-4574-806e-ab4db09c0cd5",
   "metadata": {},
   "outputs": [],
   "source": [
    "sample_size = 150\n",
    "\n",
    "chunks = pd.read_json(TEST_PATH, lines=True, chunksize = sample_size)\n",
    "\n",
    "for c in chunks:\n",
    "    sample_test_df = c\n",
    "    break"
   ]
  },
  {
   "cell_type": "code",
   "execution_count": 16,
   "id": "47776138-6ff8-4af4-9d0a-c6d56b54bdee",
   "metadata": {},
   "outputs": [
    {
     "data": {
      "text/html": [
       "<div>\n",
       "<style scoped>\n",
       "    .dataframe tbody tr th:only-of-type {\n",
       "        vertical-align: middle;\n",
       "    }\n",
       "\n",
       "    .dataframe tbody tr th {\n",
       "        vertical-align: top;\n",
       "    }\n",
       "\n",
       "    .dataframe thead th {\n",
       "        text-align: right;\n",
       "    }\n",
       "</style>\n",
       "<table border=\"1\" class=\"dataframe\">\n",
       "  <thead>\n",
       "    <tr style=\"text-align: right;\">\n",
       "      <th></th>\n",
       "      <th>session</th>\n",
       "      <th>events</th>\n",
       "    </tr>\n",
       "  </thead>\n",
       "  <tbody>\n",
       "    <tr>\n",
       "      <th>0</th>\n",
       "      <td>12899779</td>\n",
       "      <td>[{'aid': 59625, 'ts': 1661724000278, 'type': '...</td>\n",
       "    </tr>\n",
       "    <tr>\n",
       "      <th>1</th>\n",
       "      <td>12899780</td>\n",
       "      <td>[{'aid': 1142000, 'ts': 1661724000378, 'type':...</td>\n",
       "    </tr>\n",
       "    <tr>\n",
       "      <th>2</th>\n",
       "      <td>12899781</td>\n",
       "      <td>[{'aid': 141736, 'ts': 1661724000559, 'type': ...</td>\n",
       "    </tr>\n",
       "    <tr>\n",
       "      <th>3</th>\n",
       "      <td>12899782</td>\n",
       "      <td>[{'aid': 1669402, 'ts': 1661724000568, 'type':...</td>\n",
       "    </tr>\n",
       "    <tr>\n",
       "      <th>4</th>\n",
       "      <td>12899783</td>\n",
       "      <td>[{'aid': 255297, 'ts': 1661724000572, 'type': ...</td>\n",
       "    </tr>\n",
       "  </tbody>\n",
       "</table>\n",
       "</div>"
      ],
      "text/plain": [
       "    session                                             events\n",
       "0  12899779  [{'aid': 59625, 'ts': 1661724000278, 'type': '...\n",
       "1  12899780  [{'aid': 1142000, 'ts': 1661724000378, 'type':...\n",
       "2  12899781  [{'aid': 141736, 'ts': 1661724000559, 'type': ...\n",
       "3  12899782  [{'aid': 1669402, 'ts': 1661724000568, 'type':...\n",
       "4  12899783  [{'aid': 255297, 'ts': 1661724000572, 'type': ..."
      ]
     },
     "execution_count": 16,
     "metadata": {},
     "output_type": "execute_result"
    }
   ],
   "source": [
    "sample_test_df.head()"
   ]
  },
  {
   "cell_type": "code",
   "execution_count": 17,
   "id": "e9d7caaf-e041-4206-b391-34ebd1738d7f",
   "metadata": {},
   "outputs": [
    {
     "data": {
      "text/html": [
       "<div>\n",
       "<style scoped>\n",
       "    .dataframe tbody tr th:only-of-type {\n",
       "        vertical-align: middle;\n",
       "    }\n",
       "\n",
       "    .dataframe tbody tr th {\n",
       "        vertical-align: top;\n",
       "    }\n",
       "\n",
       "    .dataframe thead th {\n",
       "        text-align: right;\n",
       "    }\n",
       "</style>\n",
       "<table border=\"1\" class=\"dataframe\">\n",
       "  <thead>\n",
       "    <tr style=\"text-align: right;\">\n",
       "      <th></th>\n",
       "      <th>session_type</th>\n",
       "      <th>labels</th>\n",
       "    </tr>\n",
       "  </thead>\n",
       "  <tbody>\n",
       "    <tr>\n",
       "      <th>0</th>\n",
       "      <td>12899779_clicks</td>\n",
       "      <td>129004 126836 118524</td>\n",
       "    </tr>\n",
       "    <tr>\n",
       "      <th>1</th>\n",
       "      <td>12899779_carts</td>\n",
       "      <td>129004 126836 118524</td>\n",
       "    </tr>\n",
       "    <tr>\n",
       "      <th>2</th>\n",
       "      <td>12899779_orders</td>\n",
       "      <td>129004 126836 118524</td>\n",
       "    </tr>\n",
       "    <tr>\n",
       "      <th>3</th>\n",
       "      <td>12899780_clicks</td>\n",
       "      <td>129004 126836 118524</td>\n",
       "    </tr>\n",
       "    <tr>\n",
       "      <th>4</th>\n",
       "      <td>12899780_carts</td>\n",
       "      <td>129004 126836 118524</td>\n",
       "    </tr>\n",
       "  </tbody>\n",
       "</table>\n",
       "</div>"
      ],
      "text/plain": [
       "      session_type                labels\n",
       "0  12899779_clicks  129004 126836 118524\n",
       "1   12899779_carts  129004 126836 118524\n",
       "2  12899779_orders  129004 126836 118524\n",
       "3  12899780_clicks  129004 126836 118524\n",
       "4   12899780_carts  129004 126836 118524"
      ]
     },
     "execution_count": 17,
     "metadata": {},
     "output_type": "execute_result"
    }
   ],
   "source": [
    "sample_submission = pd.read_csv(SAMPLE_SUB_PATH)\n",
    "sample_submission.head()"
   ]
  },
  {
   "cell_type": "code",
   "execution_count": 22,
   "id": "6910ab64-9266-46e4-ace2-bb877ffa2fbb",
   "metadata": {},
   "outputs": [
    {
     "data": {
      "application/vnd.jupyter.widget-view+json": {
       "model_id": "8a18d0edb4c941d486f84f069b1cdeee",
       "version_major": 2,
       "version_minor": 0
      },
      "text/plain": [
       "0it [00:00, ?it/s]"
      ]
     },
     "metadata": {},
     "output_type": "display_data"
    }
   ],
   "source": [
    "sample_size = 1500\n",
    "\n",
    "chunks = pd.read_json(TRAIN_PATH, lines=True, chunksize = sample_size)\n",
    "\n",
    "clicks_article_list = []\n",
    "carts_article_list = []\n",
    "orders_article_list = []\n",
    "\n",
    "for e, c in tqdm(enumerate(chunks)):\n",
    "    \n",
    "    # Save time by not using all the data\n",
    "    if e > 2000:\n",
    "        break\n",
    "    \n",
    "    sample_train_df = c\n",
    "    \n",
    "    for i, row in c.iterrows():\n",
    "        actions = row['events']\n",
    "        for action in actions:\n",
    "            if action['type'] == 'clicks':\n",
    "                clicks_article_list.append(action['aid'])\n",
    "            elif action['type'] == 'carts':\n",
    "                carts_article_list.append(action['aid'])\n",
    "            else:\n",
    "                orders_article_list.append(action['aid'])"
   ]
  },
  {
   "cell_type": "code",
   "execution_count": 23,
   "id": "28113401-55f9-4dc1-b580-25c95e929473",
   "metadata": {},
   "outputs": [],
   "source": [
    "article_click_freq = Counter(clicks_article_list)\n",
    "article_carts_freq = Counter(carts_article_list)\n",
    "article_order_freq = Counter(orders_article_list)"
   ]
  },
  {
   "cell_type": "code",
   "execution_count": 24,
   "id": "45be1343-1a9c-43c4-ac80-d23d40050e33",
   "metadata": {},
   "outputs": [],
   "source": [
    "top_click_article = nlargest(20, article_click_freq, key = article_click_freq.get)\n",
    "top_carts_article = nlargest(20, article_carts_freq, key = article_carts_freq.get)\n",
    "top_order_article = nlargest(20, article_order_freq, key = article_order_freq.get) "
   ]
  },
  {
   "cell_type": "code",
   "execution_count": 25,
   "id": "f1f5cb3d-ff7b-4283-ba79-a2de0a04a5ac",
   "metadata": {},
   "outputs": [],
   "source": [
    "frequent_articles = {'clicks': top_click_article, 'carts':top_carts_article, 'order':top_order_article}"
   ]
  },
  {
   "cell_type": "code",
   "execution_count": 26,
   "id": "09197545-13c2-483a-bfd7-9449429b8878",
   "metadata": {},
   "outputs": [
    {
     "name": "stdout",
     "output_type": "stream",
     "text": [
      "Most frequent articles for clicks: [231487, 332654, 95488, 986164, 670006]\n",
      "Most frequent articles for carts: [1445562, 1498443, 801774, 986164, 1111967]\n",
      "Most frequent articles for order: [1025795, 800391, 1111967, 527209, 29735]\n"
     ]
    }
   ],
   "source": [
    "for action in ['clicks', 'carts', 'order']:\n",
    "    print(f'Most frequent articles for {action}: {frequent_articles[action][-5:]}')"
   ]
  },
  {
   "cell_type": "code",
   "execution_count": null,
   "id": "a6eb996d-bdcb-474a-ad68-d172868c6a26",
   "metadata": {},
   "outputs": [
    {
     "data": {
      "application/vnd.jupyter.widget-view+json": {
       "model_id": "111e1b642d5c4ddc8a16de3b28362c3d",
       "version_major": 2,
       "version_minor": 0
      },
      "text/plain": [
       "  0%|          | 0/1671 [00:00<?, ?it/s]"
      ]
     },
     "metadata": {},
     "output_type": "display_data"
    }
   ],
   "source": [
    "test_data = pd.read_json(TEST_PATH, lines=True, chunksize=1000)\n",
    "\n",
    "preds = []\n",
    "\n",
    "for chunk in tqdm(test_data, total=1671):\n",
    "    \n",
    "    for i, row in chunk.iterrows():\n",
    "        actions = row['events']\n",
    "        article_id_list = []\n",
    "        for action in actions:\n",
    "            article_id_list.append(action['aid'])\n",
    "            \n",
    "        # Get 20 most common article ID for the session\n",
    "        article_freq = Counter(article_id_list)\n",
    "        top_articles = nlargest(20, article_freq, key = article_freq.get)\n",
    "        \n",
    "        # Pad with most popular items in training\n",
    "        padding_size = -(20 - len(top_articles))\n",
    "        for action in ['clicks', 'carts', 'order']:\n",
    "            top_articles = top_articles + frequent_articles[action][padding_size:]\n",
    "            preds.append(\" \".join([str(id) for id in top_articles]))"
   ]
  },
  {
   "cell_type": "code",
   "execution_count": null,
   "id": "9d8f4112-60ea-428c-8864-05c277727f20",
   "metadata": {},
   "outputs": [],
   "source": []
  }
 ],
 "metadata": {
  "kernelspec": {
   "display_name": "universal",
   "language": "python",
   "name": "universal"
  },
  "language_info": {
   "codemirror_mode": {
    "name": "ipython",
    "version": 3
   },
   "file_extension": ".py",
   "mimetype": "text/x-python",
   "name": "python",
   "nbconvert_exporter": "python",
   "pygments_lexer": "ipython3",
   "version": "3.9.7"
  }
 },
 "nbformat": 4,
 "nbformat_minor": 5
}
