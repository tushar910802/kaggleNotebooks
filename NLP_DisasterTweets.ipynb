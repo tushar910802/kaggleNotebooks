{
 "cells": [
  {
   "cell_type": "code",
   "execution_count": 85,
   "id": "0efefa61-0568-452f-ae09-03faf0ae5656",
   "metadata": {},
   "outputs": [],
   "source": [
    "import pandas as pd\n",
    "import numpy as np\n",
    "import seaborn as sns\n",
    "import matplotlib.pyplot as plt\n",
    "%matplotlib inline\n",
    "\n",
    "from spellchecker import SpellChecker\n",
    "from nltk.corpus import stopwords\n",
    "from nltk.util import ngrams\n",
    "from sklearn.feature_extraction.text import CountVectorizer\n",
    "from collections import defaultdict\n",
    "from collections import Counter\n",
    "plt.style.use('ggplot')\n",
    "stop=set(stopwords.words('english'))\n",
    "import re\n",
    "from nltk.tokenize import word_tokenize\n",
    "import gensim\n",
    "import string\n",
    "from keras.preprocessing.text import Tokenizer\n",
    "from keras_preprocessing.sequence import pad_sequences\n",
    "from tqdm import tqdm\n",
    "from keras.models import Sequential\n",
    "from keras.layers import Embedding, LSTM, Dense, SpatialDropout1D\n",
    "from keras.initializers import Constant\n",
    "from sklearn.model_selection import train_test_split\n",
    "from keras.optimizers import Adam\n"
   ]
  },
  {
   "cell_type": "code",
   "execution_count": 86,
   "id": "d5359c6d-538b-4a4b-bf6d-b54f21e3eb2e",
   "metadata": {},
   "outputs": [
    {
     "data": {
      "text/html": [
       "<div>\n",
       "<style scoped>\n",
       "    .dataframe tbody tr th:only-of-type {\n",
       "        vertical-align: middle;\n",
       "    }\n",
       "\n",
       "    .dataframe tbody tr th {\n",
       "        vertical-align: top;\n",
       "    }\n",
       "\n",
       "    .dataframe thead th {\n",
       "        text-align: right;\n",
       "    }\n",
       "</style>\n",
       "<table border=\"1\" class=\"dataframe\">\n",
       "  <thead>\n",
       "    <tr style=\"text-align: right;\">\n",
       "      <th></th>\n",
       "      <th>id</th>\n",
       "      <th>keyword</th>\n",
       "      <th>location</th>\n",
       "      <th>text</th>\n",
       "      <th>target</th>\n",
       "    </tr>\n",
       "  </thead>\n",
       "  <tbody>\n",
       "    <tr>\n",
       "      <th>0</th>\n",
       "      <td>1</td>\n",
       "      <td>NaN</td>\n",
       "      <td>NaN</td>\n",
       "      <td>Our Deeds are the Reason of this #earthquake M...</td>\n",
       "      <td>1</td>\n",
       "    </tr>\n",
       "    <tr>\n",
       "      <th>1</th>\n",
       "      <td>4</td>\n",
       "      <td>NaN</td>\n",
       "      <td>NaN</td>\n",
       "      <td>Forest fire near La Ronge Sask. Canada</td>\n",
       "      <td>1</td>\n",
       "    </tr>\n",
       "    <tr>\n",
       "      <th>2</th>\n",
       "      <td>5</td>\n",
       "      <td>NaN</td>\n",
       "      <td>NaN</td>\n",
       "      <td>All residents asked to 'shelter in place' are ...</td>\n",
       "      <td>1</td>\n",
       "    </tr>\n",
       "  </tbody>\n",
       "</table>\n",
       "</div>"
      ],
      "text/plain": [
       "   id keyword  ...                                               text target\n",
       "0   1     NaN  ...  Our Deeds are the Reason of this #earthquake M...      1\n",
       "1   4     NaN  ...             Forest fire near La Ronge Sask. Canada      1\n",
       "2   5     NaN  ...  All residents asked to 'shelter in place' are ...      1\n",
       "\n",
       "[3 rows x 5 columns]"
      ]
     },
     "execution_count": 86,
     "metadata": {},
     "output_type": "execute_result"
    }
   ],
   "source": [
    "train= pd.read_csv('../kaggleDatasets/NLP_Disaster_Tweets/train.csv')\n",
    "test=pd.read_csv('../kaggleDatasets/NLP_Disaster_Tweets/test.csv')\n",
    "train.head(3)"
   ]
  },
  {
   "cell_type": "code",
   "execution_count": 87,
   "id": "29724f90-dc68-451f-8c2f-aeda1c4e7227",
   "metadata": {},
   "outputs": [
    {
     "name": "stdout",
     "output_type": "stream",
     "text": [
      "(7613, 5)\n",
      "(3263, 4)\n"
     ]
    }
   ],
   "source": [
    "print(train.shape)\n",
    "print(test.shape)"
   ]
  },
  {
   "cell_type": "markdown",
   "id": "2b200ccd-5c9f-4d99-ad98-60895a69728b",
   "metadata": {},
   "source": [
    "## Visualization"
   ]
  },
  {
   "cell_type": "code",
   "execution_count": 88,
   "id": "b2c87df3-a2ba-4f3f-998c-5fab00841780",
   "metadata": {},
   "outputs": [
    {
     "name": "stderr",
     "output_type": "stream",
     "text": [
      "/home/ubuntu/anaconda3/envs/universal/lib/python3.9/site-packages/seaborn/_decorators.py:36: FutureWarning: Pass the following variables as keyword args: x, y. From version 0.12, the only valid positional argument will be `data`, and passing other arguments without an explicit keyword will result in an error or misinterpretation.\n",
      "  warnings.warn(\n"
     ]
    },
    {
     "data": {
      "text/plain": [
       "<AxesSubplot:ylabel='target'>"
      ]
     },
     "execution_count": 88,
     "metadata": {},
     "output_type": "execute_result"
    },
    {
     "data": {
      "image/png": "[encoded data removed]",
      "text/plain": [
       "<Figure size 432x288 with 1 Axes>"
      ]
     },
     "metadata": {},
     "output_type": "display_data"
    }
   ],
   "source": [
    "x = train.target.value_counts()\n",
    "sns.barplot(x.index,x)\n",
    "# plt.gca().set_ylabel('samples')"
   ]
  },
  {
   "cell_type": "code",
   "execution_count": 89,
   "id": "b2de55ea-a1eb-4154-86c4-850081e67ad4",
   "metadata": {},
   "outputs": [
    {
     "data": {
      "text/plain": [
       "Text(0.5, 1.0, 'Not Disaster Tweets')"
      ]
     },
     "execution_count": 89,
     "metadata": {},
     "output_type": "execute_result"
    },
    {
     "data": {
      "image/png": "[encoded data removed]",
      "text/plain": [
       "<Figure size 864x432 with 2 Axes>"
      ]
     },
     "metadata": {},
     "output_type": "display_data"
    }
   ],
   "source": [
    "fig,(ax1,ax2) = plt.subplots(1,2,figsize = (12,6))\n",
    "train_len = train[train['target']== 1]['text'].str.len()\n",
    "ax1.hist(train_len,color='orange')\n",
    "ax1.set_title('Disaster Tweets')\n",
    "train_len = train[train['target']== 0]['text'].str.len()\n",
    "ax2.hist(train_len,color='blue')\n",
    "ax2.set_title('Not Disaster Tweets')"
   ]
  },
  {
   "cell_type": "code",
   "execution_count": 90,
   "id": "435ed732-ed46-4418-991b-ffc1b12716e3",
   "metadata": {},
   "outputs": [
    {
     "data": {
      "text/plain": [
       "Text(0.5, 1.0, 'Not Disaster Tweets')"
      ]
     },
     "execution_count": 90,
     "metadata": {},
     "output_type": "execute_result"
    },
    {
     "data": {
      "image/png": "[encoded data removed]",
      "text/plain": [
       "<Figure size 864x432 with 2 Axes>"
      ]
     },
     "metadata": {},
     "output_type": "display_data"
    }
   ],
   "source": [
    "fig,(ax1,ax2) = plt.subplots(1,2,figsize = (12,6))\n",
    "train_len = train[train['target']== 1]['text'].str.split().map(lambda x: len(x))\n",
    "ax1.hist(train_len,color='orange')\n",
    "ax1.set_title('Disaster Tweets')\n",
    "train_len = train[train['target']== 0]['text'].str.split().map(lambda x: len(x))\n",
    "ax2.hist(train_len,color='blue')\n",
    "ax2.set_title('Not Disaster Tweets')"
   ]
  },
  {
   "cell_type": "code",
   "execution_count": 91,
   "id": "1b9456dc-860e-4d97-9fcd-c79706c6a336",
   "metadata": {},
   "outputs": [],
   "source": [
    "def create_corpus(target):\n",
    "    corpus = []\n",
    "    for x in train[train['target']== target]['text'].str.split():\n",
    "        for i in x:\n",
    "            corpus.append(i)\n",
    "    return corpus"
   ]
  },
  {
   "cell_type": "markdown",
   "id": "2e4bfc3e-6ccd-4cd9-926c-9de7e0348761",
   "metadata": {},
   "source": [
    "#### STOP WORDS"
   ]
  },
  {
   "cell_type": "code",
   "execution_count": 92,
   "id": "e28ab707-ed3f-4f06-b515-d8bb7fa3da18",
   "metadata": {},
   "outputs": [],
   "source": [
    "corpus=create_corpus(0)\n",
    "dic = defaultdict(int)\n",
    "for word in corpus:\n",
    "    if word in stop:\n",
    "        dic[word] += 1\n",
    "top = sorted(dic.items(),key=lambda x:x[1],reverse = True)[:10]"
   ]
  },
  {
   "cell_type": "code",
   "execution_count": 93,
   "id": "591e4c3b-8057-4718-9ad7-27b4d2c6d3e9",
   "metadata": {},
   "outputs": [
    {
     "data": {
      "text/plain": [
       "<BarContainer object of 10 artists>"
      ]
     },
     "execution_count": 93,
     "metadata": {},
     "output_type": "execute_result"
    },
    {
     "data": {
      "image/png": "[encoded data removed]",
      "text/plain": [
       "<Figure size 432x288 with 1 Axes>"
      ]
     },
     "metadata": {},
     "output_type": "display_data"
    }
   ],
   "source": [
    "x,y=zip(*top)\n",
    "plt.bar(x,y)"
   ]
  },
  {
   "cell_type": "code",
   "execution_count": 94,
   "id": "ba5527c3-00cd-4698-97ba-534ac7a2e12f",
   "metadata": {},
   "outputs": [
    {
     "data": {
      "text/plain": [
       "<BarContainer object of 10 artists>"
      ]
     },
     "execution_count": 94,
     "metadata": {},
     "output_type": "execute_result"
    },
    {
     "data": {
      "image/png": "[encoded data removed]",
      "text/plain": [
       "<Figure size 432x288 with 1 Axes>"
      ]
     },
     "metadata": {},
     "output_type": "display_data"
    }
   ],
   "source": [
    "corpus=create_corpus(1)\n",
    "\n",
    "dic=defaultdict(int)\n",
    "for word in corpus:\n",
    "    if word in stop:\n",
    "        dic[word]+=1\n",
    "\n",
    "top=sorted(dic.items(), key=lambda x:x[1],reverse=True)[:10] \n",
    "    \n",
    "\n",
    "\n",
    "x,y=zip(*top)\n",
    "plt.bar(x,y)"
   ]
  },
  {
   "cell_type": "markdown",
   "id": "c1f73646-05ac-472d-9dea-f81622b6a10b",
   "metadata": {},
   "source": [
    "#### COMMON WORDS"
   ]
  },
  {
   "cell_type": "code",
   "execution_count": 95,
   "id": "59645845-a7c0-4211-a155-32b990378b8c",
   "metadata": {},
   "outputs": [
    {
     "data": {
      "text/plain": [
       "<AxesSubplot:>"
      ]
     },
     "execution_count": 95,
     "metadata": {},
     "output_type": "execute_result"
    },
    {
     "data": {
      "image/png": "[encoded data removed]",
      "text/plain": [
       "<Figure size 432x288 with 1 Axes>"
      ]
     },
     "metadata": {},
     "output_type": "display_data"
    }
   ],
   "source": [
    "counter = Counter(corpus)\n",
    "most = counter.most_common()\n",
    "x , y =  [], []\n",
    "for word, count in most[:40]:\n",
    "    if word not in stop:\n",
    "        x.append(word)\n",
    "        y.append(count)\n",
    "        \n",
    "sns.barplot(x=y,y=x)"
   ]
  },
  {
   "cell_type": "markdown",
   "id": "762900eb-708c-42ef-834c-09b15a5ffa5b",
   "metadata": {},
   "source": [
    "#### N-gram analysis"
   ]
  },
  {
   "cell_type": "code",
   "execution_count": 96,
   "id": "b9ac59e9-a62d-4a72-abdc-77dbf6154ae7",
   "metadata": {},
   "outputs": [],
   "source": [
    "def get_top_tweet_bigrams(corpus,n = None):\n",
    "    vec = CountVectorizer(ngram_range = (2,2)).fit(corpus)\n",
    "    bag_of_words = vec.transform(corpus)\n",
    "    sum_words = bag_of_words.sum(axis=0)\n",
    "    words_freq = [(word,sum_words[0,idx]) for word,idx in vec.vocabulary_.items()]\n",
    "    words_freq = sorted(words_freq, key = lambda x:x[1], reverse = True)\n",
    "    return words_freq[:n]\n"
   ]
  },
  {
   "cell_type": "code",
   "execution_count": 97,
   "id": "646c49a3-2f29-411f-bb60-530b75f8a02b",
   "metadata": {},
   "outputs": [
    {
     "data": {
      "text/plain": [
       "<AxesSubplot:>"
      ]
     },
     "execution_count": 97,
     "metadata": {},
     "output_type": "execute_result"
    },
    {
     "data": {
      "image/png": "[encoded data removed]",
      "text/plain": [
       "<Figure size 864x432 with 1 Axes>"
      ]
     },
     "metadata": {},
     "output_type": "display_data"
    }
   ],
   "source": [
    "plt.figure(figsize = (12,6))\n",
    "top_tweet_bigrams = get_top_tweet_bigrams(train['text'])[:10]\n",
    "x,y = map(list,zip(*top_tweet_bigrams))\n",
    "sns.barplot(x=y,y=x)"
   ]
  },
  {
   "cell_type": "markdown",
   "id": "82f594bc-4f3d-43bc-915a-6961a8c9f10f",
   "metadata": {},
   "source": [
    "## Data Cleaning"
   ]
  },
  {
   "cell_type": "code",
   "execution_count": 98,
   "id": "194c09ed-a5a9-4f31-b84f-6a4015c3235f",
   "metadata": {},
   "outputs": [
    {
     "data": {
      "text/plain": [
       "(10876, 5)"
      ]
     },
     "execution_count": 98,
     "metadata": {},
     "output_type": "execute_result"
    }
   ],
   "source": [
    "df = pd.concat([train,test])\n",
    "df.shape"
   ]
  },
  {
   "cell_type": "code",
   "execution_count": 99,
   "id": "6c848f45-3fd5-4eaa-8afe-cab648dc50b0",
   "metadata": {},
   "outputs": [],
   "source": [
    "def remove_urls(text):\n",
    "    url = re.compile(r'https?://\\S+|www\\.\\S+')\n",
    "    return url.sub(r'',text)\n"
   ]
  },
  {
   "cell_type": "code",
   "execution_count": 100,
   "id": "b28d4ee1-415d-4c23-9ad1-3e1ccd2ed511",
   "metadata": {},
   "outputs": [],
   "source": [
    "df['text'] = df['text'].apply(lambda x: remove_urls(x))"
   ]
  },
  {
   "cell_type": "code",
   "execution_count": 101,
   "id": "6d94b83f-8abf-4eb1-ae31-e32b1b649ac2",
   "metadata": {},
   "outputs": [],
   "source": [
    "def remove_html_tags(text):\n",
    "    html = re.compile(r'<.*?>')\n",
    "    return html.sub(r'',text)"
   ]
  },
  {
   "cell_type": "code",
   "execution_count": 102,
   "id": "94a3b4c0-d022-4163-a4fd-8b8962f80ebe",
   "metadata": {},
   "outputs": [],
   "source": [
    "df['text']=df['text'].apply(lambda x : remove_html_tags(x))"
   ]
  },
  {
   "cell_type": "code",
   "execution_count": 103,
   "id": "f188d53f-54b4-4db0-b462-f9554a831e46",
   "metadata": {},
   "outputs": [],
   "source": [
    "def remove_emoji(text):\n",
    "    emoji_pattern = re.compile(\"[\"\n",
    "                           u\"\\U0001F600-\\U0001F64F\"  # emoticons\n",
    "                           u\"\\U0001F300-\\U0001F5FF\"  # symbols & pictographs\n",
    "                           u\"\\U0001F680-\\U0001F6FF\"  # transport & map symbols\n",
    "                           u\"\\U0001F1E0-\\U0001F1FF\"  # flags (iOS)\n",
    "                           u\"\\U00002702-\\U000027B0\"\n",
    "                           u\"\\U000024C2-\\U0001F251\"\n",
    "                           \"]+\", flags=re.UNICODE)\n",
    "    return emoji_pattern.sub(r'', text)"
   ]
  },
  {
   "cell_type": "code",
   "execution_count": 104,
   "id": "8f623406-bba7-4539-be6a-781ec510054c",
   "metadata": {},
   "outputs": [],
   "source": [
    "df['text']=df['text'].apply(lambda x: remove_emoji(x))"
   ]
  },
  {
   "cell_type": "code",
   "execution_count": 105,
   "id": "782822f8-a073-4e0e-83e9-483c0459f047",
   "metadata": {},
   "outputs": [],
   "source": [
    "def remove_punctuations(text):\n",
    "    table=str.maketrans('','',string.punctuation)\n",
    "    return text.translate(table)\n",
    "    "
   ]
  },
  {
   "cell_type": "code",
   "execution_count": 106,
   "id": "bc892177-52d6-45b8-928e-e30cf49d2ca2",
   "metadata": {},
   "outputs": [],
   "source": [
    "df['text']=df['text'].apply(lambda x : remove_punctuations(x))"
   ]
  },
  {
   "cell_type": "code",
   "execution_count": 107,
   "id": "850648aa-ab51-4c16-9031-3ae0b34a41c4",
   "metadata": {},
   "outputs": [
    {
     "data": {
      "text/html": [
       "<div>\n",
       "<style scoped>\n",
       "    .dataframe tbody tr th:only-of-type {\n",
       "        vertical-align: middle;\n",
       "    }\n",
       "\n",
       "    .dataframe tbody tr th {\n",
       "        vertical-align: top;\n",
       "    }\n",
       "\n",
       "    .dataframe thead th {\n",
       "        text-align: right;\n",
       "    }\n",
       "</style>\n",
       "<table border=\"1\" class=\"dataframe\">\n",
       "  <thead>\n",
       "    <tr style=\"text-align: right;\">\n",
       "      <th></th>\n",
       "      <th>id</th>\n",
       "      <th>keyword</th>\n",
       "      <th>location</th>\n",
       "      <th>text</th>\n",
       "      <th>target</th>\n",
       "    </tr>\n",
       "  </thead>\n",
       "  <tbody>\n",
       "    <tr>\n",
       "      <th>0</th>\n",
       "      <td>1</td>\n",
       "      <td>NaN</td>\n",
       "      <td>NaN</td>\n",
       "      <td>Our Deeds are the Reason of this earthquake Ma...</td>\n",
       "      <td>1.0</td>\n",
       "    </tr>\n",
       "    <tr>\n",
       "      <th>1</th>\n",
       "      <td>4</td>\n",
       "      <td>NaN</td>\n",
       "      <td>NaN</td>\n",
       "      <td>Forest fire near La Ronge Sask Canada</td>\n",
       "      <td>1.0</td>\n",
       "    </tr>\n",
       "    <tr>\n",
       "      <th>2</th>\n",
       "      <td>5</td>\n",
       "      <td>NaN</td>\n",
       "      <td>NaN</td>\n",
       "      <td>All residents asked to shelter in place are be...</td>\n",
       "      <td>1.0</td>\n",
       "    </tr>\n",
       "    <tr>\n",
       "      <th>3</th>\n",
       "      <td>6</td>\n",
       "      <td>NaN</td>\n",
       "      <td>NaN</td>\n",
       "      <td>13000 people receive wildfires evacuation orde...</td>\n",
       "      <td>1.0</td>\n",
       "    </tr>\n",
       "    <tr>\n",
       "      <th>4</th>\n",
       "      <td>7</td>\n",
       "      <td>NaN</td>\n",
       "      <td>NaN</td>\n",
       "      <td>Just got sent this photo from Ruby Alaska as s...</td>\n",
       "      <td>1.0</td>\n",
       "    </tr>\n",
       "  </tbody>\n",
       "</table>\n",
       "</div>"
      ],
      "text/plain": [
       "   id keyword  ...                                               text target\n",
       "0   1     NaN  ...  Our Deeds are the Reason of this earthquake Ma...    1.0\n",
       "1   4     NaN  ...              Forest fire near La Ronge Sask Canada    1.0\n",
       "2   5     NaN  ...  All residents asked to shelter in place are be...    1.0\n",
       "3   6     NaN  ...  13000 people receive wildfires evacuation orde...    1.0\n",
       "4   7     NaN  ...  Just got sent this photo from Ruby Alaska as s...    1.0\n",
       "\n",
       "[5 rows x 5 columns]"
      ]
     },
     "execution_count": 107,
     "metadata": {},
     "output_type": "execute_result"
    }
   ],
   "source": [
    "df.head()"
   ]
  },
  {
   "cell_type": "code",
   "execution_count": 108,
   "id": "9e847691-618d-4f12-aeab-be8666d3e8e1",
   "metadata": {},
   "outputs": [],
   "source": [
    "spell = SpellChecker()\n",
    "def correct_spellings(text):\n",
    "    correct_text =[]\n",
    "    misspelled_words = spell.unknownwn(text.split())\n",
    "    for word in text.split():\n",
    "        if word in misspelled_words:\n",
    "            correct_text.append(spell.correction(word))\n",
    "        else:\n",
    "            correct_text.append(word)\n",
    "    return ' '.join(correct_text)"
   ]
  },
  {
   "cell_type": "markdown",
   "id": "c3dcee8c-4e4e-4073-8174-ba008d8a2063",
   "metadata": {},
   "source": [
    "### GLoVe for Vectorization"
   ]
  },
  {
   "cell_type": "code",
   "execution_count": 123,
   "id": "b51d2e2e-636a-4beb-a7e9-65de6c1e1a43",
   "metadata": {},
   "outputs": [],
   "source": [
    "def create_corpus(df):\n",
    "    corpus = []\n",
    "    for tweet in tqdm(df['text']):\n",
    "        words = [word.lower() for word in word_tokenize(tweet) if ((word.isalpha() == 1) & (word not in stop))]\n",
    "        corpus.append(words)\n",
    "    return corpus"
   ]
  },
  {
   "cell_type": "code",
   "execution_count": 124,
   "id": "dc155be3-66fd-4ad8-b01b-a619db9c45ca",
   "metadata": {},
   "outputs": [
    {
     "name": "stderr",
     "output_type": "stream",
     "text": [
      "100%|█████████████████████████████████████████████████████████████████████████████████████████████████████████████████████████████████████████████████████████████████████| 10876/10876 [00:00<00:00, 18511.32it/s]\n"
     ]
    }
   ],
   "source": [
    "corpus = create_corpus(df)"
   ]
  },
  {
   "cell_type": "code",
   "execution_count": 126,
   "id": "fdc2dad9-8e75-4af8-ab6d-b1edc887572e",
   "metadata": {},
   "outputs": [],
   "source": [
    "embedding_dict = {}\n",
    "with open('../model/glove.6B.100d.txt') as f:\n",
    "    for line in f:\n",
    "        values = line.split()\n",
    "        word = values[0]\n",
    "        vectors = np.asarray(values[1:],'float32')\n",
    "        embedding_dict[word] = vectors\n",
    "    f.close()"
   ]
  },
  {
   "cell_type": "code",
   "execution_count": 127,
   "id": "e89084c1-aada-44db-8413-6ccf8048a8ad",
   "metadata": {},
   "outputs": [],
   "source": [
    "MAX_LEN = 50\n",
    "tokenizer_obj = Tokenizer()\n",
    "tokenizer_obj.fit_on_texts(corpus)\n",
    "sequences = tokenizer_obj.texts_to_sequences(corpus)\n",
    "\n",
    "tweet_pad = pad_sequences(sequences, maxlen = MAX_LEN, truncating='post', padding = 'post')"
   ]
  },
  {
   "cell_type": "code",
   "execution_count": 129,
   "id": "78531a4b-04cc-47e5-a9cc-5d6aec136966",
   "metadata": {},
   "outputs": [
    {
     "name": "stdout",
     "output_type": "stream",
     "text": [
      "Number of unique words: 20342\n"
     ]
    }
   ],
   "source": [
    "word_index=tokenizer_obj.word_index\n",
    "print('Number of unique words:',len(word_index))\n"
   ]
  },
  {
   "cell_type": "code",
   "execution_count": 131,
   "id": "d524ad48-cad4-4477-b3d9-c73347ff7e03",
   "metadata": {},
   "outputs": [
    {
     "name": "stderr",
     "output_type": "stream",
     "text": [
      "100%|████████████████████████████████████████████████████████████████████████████████████████████████████████████████████████████████████████████████████████████████████| 20342/20342 [00:00<00:00, 602699.36it/s]\n"
     ]
    }
   ],
   "source": [
    "num_words=len(word_index)+1\n",
    "embedding_matrix=np.zeros((num_words,100))\n",
    "\n",
    "for word,i in tqdm(word_index.items()):\n",
    "    if i > num_words:\n",
    "        continue\n",
    "    \n",
    "    emb_vec=embedding_dict.get(word)\n",
    "    if emb_vec is not None:\n",
    "        embedding_matrix[i]=emb_vec"
   ]
  },
  {
   "cell_type": "markdown",
   "id": "dae4bcf9-3183-4934-b17c-5432ad395da8",
   "metadata": {
    "tags": []
   },
   "source": [
    "## Baseline Model"
   ]
  },
  {
   "cell_type": "code",
   "execution_count": 133,
   "id": "7416b223-2614-4bb7-a5f7-77f0080d4a85",
   "metadata": {},
   "outputs": [],
   "source": [
    "model = Sequential()\n",
    "embedding = Embedding(num_words,100, embeddings_initializer=Constant(embedding_matrix), input_length = MAX_LEN, trainable = False)\n",
    "model.add(embedding)\n",
    "model.add(SpatialDropout1D(0.2))\n",
    "model.add(LSTM(64,dropout=0.2, recurrent_dropout = 0.2))\n",
    "model.add(Dense(1, activation = 'sigmoid'))\n",
    "\n",
    "optimizer = Adam(learning_rate = 1e-5)\n",
    "model.compile(loss ='binary_crossentropy', optimizer = optimizer, metrics = ['accuracy'])"
   ]
  },
  {
   "cell_type": "code",
   "execution_count": 134,
   "id": "98fe29a3-e982-48c9-98ea-25c35b2a7671",
   "metadata": {},
   "outputs": [
    {
     "name": "stdout",
     "output_type": "stream",
     "text": [
      "Model: \"sequential_1\"\n",
      "_________________________________________________________________\n",
      " Layer (type)                Output Shape              Param #   \n",
      "=================================================================\n",
      " embedding (Embedding)       (None, 50, 100)           2034300   \n",
      "                                                                 \n",
      " spatial_dropout1d (SpatialD  (None, 50, 100)          0         \n",
      " ropout1D)                                                       \n",
      "                                                                 \n",
      " lstm (LSTM)                 (None, 64)                42240     \n",
      "                                                                 \n",
      " dense (Dense)               (None, 1)                 65        \n",
      "                                                                 \n",
      "=================================================================\n",
      "Total params: 2,076,605\n",
      "Trainable params: 42,305\n",
      "Non-trainable params: 2,034,300\n",
      "_________________________________________________________________\n"
     ]
    }
   ],
   "source": [
    "model.summary()"
   ]
  },
  {
   "cell_type": "code",
   "execution_count": 135,
   "id": "379edf71-06dd-4ccf-b1c3-f82ad35dc1cd",
   "metadata": {},
   "outputs": [],
   "source": [
    "train=tweet_pad[:tweet.shape[0]]\n",
    "test=tweet_pad[tweet.shape[0]:]"
   ]
  },
  {
   "cell_type": "code",
   "execution_count": 136,
   "id": "921e3816-42be-496d-9422-5aed1dba7c58",
   "metadata": {},
   "outputs": [
    {
     "name": "stdout",
     "output_type": "stream",
     "text": [
      "Shape of train (6471, 50)\n",
      "Shape of Validation  (1142, 50)\n"
     ]
    }
   ],
   "source": [
    "X_train,X_test,y_train,y_test=train_test_split(train,tweet['target'].values,test_size=0.15)\n",
    "print('Shape of train',X_train.shape)\n",
    "print(\"Shape of Validation \",X_test.shape)"
   ]
  },
  {
   "cell_type": "code",
   "execution_count": 137,
   "id": "500e5669-503c-45a1-b983-5a4fdfc773b2",
   "metadata": {},
   "outputs": [
    {
     "name": "stdout",
     "output_type": "stream",
     "text": [
      "Epoch 1/15\n",
      "1618/1618 - 73s - loss: 0.6910 - accuracy: 0.5707 - val_loss: 0.6865 - val_accuracy: 0.5657 - 73s/epoch - 45ms/step\n",
      "Epoch 2/15\n",
      "1618/1618 - 72s - loss: 0.5888 - accuracy: 0.6959 - val_loss: 0.5177 - val_accuracy: 0.7785 - 72s/epoch - 44ms/step\n",
      "Epoch 3/15\n",
      "1618/1618 - 70s - loss: 0.5316 - accuracy: 0.7540 - val_loss: 0.4995 - val_accuracy: 0.7872 - 70s/epoch - 43ms/step\n",
      "Epoch 4/15\n",
      "1618/1618 - 69s - loss: 0.5209 - accuracy: 0.7628 - val_loss: 0.4903 - val_accuracy: 0.7916 - 69s/epoch - 43ms/step\n",
      "Epoch 5/15\n",
      "1618/1618 - 69s - loss: 0.5087 - accuracy: 0.7707 - val_loss: 0.4828 - val_accuracy: 0.7916 - 69s/epoch - 42ms/step\n",
      "Epoch 6/15\n",
      "1618/1618 - 68s - loss: 0.5031 - accuracy: 0.7711 - val_loss: 0.4782 - val_accuracy: 0.7907 - 68s/epoch - 42ms/step\n",
      "Epoch 7/15\n",
      "1618/1618 - 58s - loss: 0.4946 - accuracy: 0.7790 - val_loss: 0.4738 - val_accuracy: 0.7933 - 58s/epoch - 36ms/step\n",
      "Epoch 8/15\n",
      "1618/1618 - 60s - loss: 0.4909 - accuracy: 0.7787 - val_loss: 0.4691 - val_accuracy: 0.7942 - 60s/epoch - 37ms/step\n",
      "Epoch 9/15\n",
      "1618/1618 - 58s - loss: 0.4896 - accuracy: 0.7809 - val_loss: 0.4666 - val_accuracy: 0.8004 - 58s/epoch - 36ms/step\n",
      "Epoch 10/15\n",
      "1618/1618 - 60s - loss: 0.4884 - accuracy: 0.7793 - val_loss: 0.4638 - val_accuracy: 0.7968 - 60s/epoch - 37ms/step\n",
      "Epoch 11/15\n",
      "1618/1618 - 60s - loss: 0.4848 - accuracy: 0.7852 - val_loss: 0.4601 - val_accuracy: 0.8004 - 60s/epoch - 37ms/step\n",
      "Epoch 12/15\n",
      "1618/1618 - 65s - loss: 0.4782 - accuracy: 0.7827 - val_loss: 0.4601 - val_accuracy: 0.7995 - 65s/epoch - 40ms/step\n",
      "Epoch 13/15\n",
      "1618/1618 - 65s - loss: 0.4724 - accuracy: 0.7934 - val_loss: 0.4571 - val_accuracy: 0.7995 - 65s/epoch - 40ms/step\n",
      "Epoch 14/15\n",
      "1618/1618 - 69s - loss: 0.4759 - accuracy: 0.7870 - val_loss: 0.4550 - val_accuracy: 0.7968 - 69s/epoch - 42ms/step\n",
      "Epoch 15/15\n",
      "1618/1618 - 67s - loss: 0.4737 - accuracy: 0.7889 - val_loss: 0.4535 - val_accuracy: 0.8030 - 67s/epoch - 42ms/step\n"
     ]
    }
   ],
   "source": [
    "history=model.fit(X_train,y_train,batch_size=4,epochs=15,validation_data=(X_test,y_test),verbose=2)"
   ]
  },
  {
   "cell_type": "code",
   "execution_count": 138,
   "id": "62aefba0-da44-4056-9145-9cdf906dcdce",
   "metadata": {},
   "outputs": [],
   "source": [
    "sample_sub=pd.read_csv('../kaggleDatasets/NLP_Disaster_Tweets/sample_submission.csv')\n"
   ]
  },
  {
   "cell_type": "code",
   "execution_count": 139,
   "id": "86afb345-3bf1-4ef0-af53-8261a9896777",
   "metadata": {},
   "outputs": [
    {
     "name": "stdout",
     "output_type": "stream",
     "text": [
      "102/102 [==============================] - 2s 14ms/step\n"
     ]
    }
   ],
   "source": [
    "y_pre=model.predict(test)\n",
    "y_pre=np.round(y_pre).astype(int).reshape(3263)\n",
    "sub=pd.DataFrame({'id':sample_sub['id'].values.tolist(),'target':y_pre})\n",
    "sub.to_csv('submission.csv',index=False)"
   ]
  },
  {
   "cell_type": "code",
   "execution_count": null,
   "id": "69791a23-23e9-420a-8cec-236ae5f38ca0",
   "metadata": {},
   "outputs": [],
   "source": []
  }
 ],
 "metadata": {
  "kernelspec": {
   "display_name": "universal",
   "language": "python",
   "name": "universal"
  },
  "language_info": {
   "codemirror_mode": {
    "name": "ipython",
    "version": 3
   },
   "file_extension": ".py",
   "mimetype": "text/x-python",
   "name": "python",
   "nbconvert_exporter": "python",
   "pygments_lexer": "ipython3",
   "version": "3.9.7"
  }
 },
 "nbformat": 4,
 "nbformat_minor": 5
}
